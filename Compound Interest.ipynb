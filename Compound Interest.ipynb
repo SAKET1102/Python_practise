{
 "cells": [
  {
   "cell_type": "code",
   "execution_count": 4,
   "metadata": {},
   "outputs": [],
   "source": [
    "def cmpd_intr(p,r,t):\n",
    "    #A = P(1 + R/100) t\n",
    "    ci = p * (pow((1 + r/100),t))\n",
    "    print(\"The Compound Interest is:\",ci)"
   ]
  },
  {
   "cell_type": "code",
   "execution_count": 6,
   "metadata": {},
   "outputs": [
    {
     "name": "stdout",
     "output_type": "stream",
     "text": [
      "The Compound Interest is: 16288.946267774416\n"
     ]
    }
   ],
   "source": [
    "cmpd_intr(10000, 10.25, 5) "
   ]
  },
  {
   "cell_type": "code",
   "execution_count": 7,
   "metadata": {},
   "outputs": [
    {
     "name": "stdout",
     "output_type": "stream",
     "text": [
      "Compound interest is 6288.946267774416\n"
     ]
    }
   ],
   "source": [
    "def compound_interest(principle, rate, time): \n",
    "  \n",
    "    # Calculates compound interest  \n",
    "    Amount = principle * (pow((1 + rate / 100), time)) \n",
    "    CI = Amount - principle \n",
    "    print(\"Compound interest is\", CI) \n",
    "  \n",
    "# Driver Code  \n",
    "compound_interest(10000, 10.25, 5) "
   ]
  },
  {
   "cell_type": "code",
   "execution_count": null,
   "metadata": {},
   "outputs": [],
   "source": []
  }
 ],
 "metadata": {
  "kernelspec": {
   "display_name": "Python 3",
   "language": "python",
   "name": "python3"
  },
  "language_info": {
   "codemirror_mode": {
    "name": "ipython",
    "version": 3
   },
   "file_extension": ".py",
   "mimetype": "text/x-python",
   "name": "python",
   "nbconvert_exporter": "python",
   "pygments_lexer": "ipython3",
   "version": "3.8.3"
  }
 },
 "nbformat": 4,
 "nbformat_minor": 4
}
