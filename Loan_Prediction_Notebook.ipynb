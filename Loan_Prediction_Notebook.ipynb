{
 "cells": [
  {
   "cell_type": "markdown",
   "metadata": {},
   "source": [
    "# Predict Loan Eligibility for Dream Housing Finance company\n",
    "Dream Housing Finance company deals in all kinds of home loans. They have presence across all urban, semi urban and rural areas. Customer first applies for home loan and after that company validates the customer eligibility for loan.\n",
    "\n",
    "Company wants to automate the loan eligibility process (real time) based on customer detail provided while filling online application form. These details are Gender, Marital Status, Education, Number of Dependents, Income, Loan Amount, Credit History and others. To automate this process, they have provided a dataset to identify the customers segments that are eligible for loan amount so that they can specifically target these customers. \n",
    "\n"
   ]
  },
  {
   "cell_type": "code",
   "execution_count": 82,
   "metadata": {},
   "outputs": [],
   "source": [
    "import numpy as np\n",
    "import pandas as pd\n",
    "import matplotlib.pyplot as plt\n",
    "%matplotlib inline\n",
    "plt.style.use('seaborn-whitegrid')\n",
    "\n",
    "import seaborn as sns\n",
    "from sklearn.model_selection import train_test_split, StratifiedKFold\n",
    "from sklearn.metrics import accuracy_score, f1_score\n",
    "\n",
    "from sklearn.tree import DecisionTreeClassifier\n",
    "from sklearn.linear_model import LogisticRegression\n",
    "from sklearn.linear_model import LogisticRegression\n",
    "from sklearn.model_selection import GridSearchCV\n",
    "\n",
    "from lightgbm import LGBMClassifier\n",
    "\n",
    "from IPython.core.interactiveshell import InteractiveShell\n",
    "InteractiveShell.ast_node_interactivity = \"all\"\n",
    "\n",
    "pd.set_option('display.max_colwidth', -1)\n",
    "\n",
    "import warnings\n",
    "warnings.simplefilter('ignore')"
   ]
  },
  {
   "cell_type": "markdown",
   "metadata": {},
   "source": [
    "# **EDA**\n",
    "Before going to any kind of modelling, we will always want to have a look at the kind of data that we have.\n",
    "\n",
    "We have been provided three files. A description for what each of these files contain is given below:\n",
    "\n",
    "**SampleSubmission.csv:** This gives us a required format for submitting our solutions to the AV solution checker.\n",
    "**Train.csv:** We will use this file for training our model. It contains variables or features that we will input to our model, and the target variable that we want to predict.\n",
    "**Test.csv:** This will contain all variables in the training dataset except the target variable. We will use our trained model to predict the target for this dataset.\n",
    "Now lets go on to read and have a look at each of the files."
   ]
  },
  {
   "cell_type": "code",
   "execution_count": 2,
   "metadata": {},
   "outputs": [],
   "source": [
    "ss = pd.read_csv('sample_submission_49d68Cx.csv')\n",
    "test = pd.read_csv('test_lAUu6dG.csv')\n",
    "train = pd.read_csv('train_ctrUa4K.csv')"
   ]
  },
  {
   "cell_type": "code",
   "execution_count": 3,
   "metadata": {},
   "outputs": [
    {
     "data": {
      "text/html": [
       "<div>\n",
       "<style scoped>\n",
       "    .dataframe tbody tr th:only-of-type {\n",
       "        vertical-align: middle;\n",
       "    }\n",
       "\n",
       "    .dataframe tbody tr th {\n",
       "        vertical-align: top;\n",
       "    }\n",
       "\n",
       "    .dataframe thead th {\n",
       "        text-align: right;\n",
       "    }\n",
       "</style>\n",
       "<table border=\"1\" class=\"dataframe\">\n",
       "  <thead>\n",
       "    <tr style=\"text-align: right;\">\n",
       "      <th></th>\n",
       "      <th>Loan_ID</th>\n",
       "      <th>Loan_Status</th>\n",
       "    </tr>\n",
       "  </thead>\n",
       "  <tbody>\n",
       "    <tr>\n",
       "      <th>0</th>\n",
       "      <td>LP001015</td>\n",
       "      <td>N</td>\n",
       "    </tr>\n",
       "    <tr>\n",
       "      <th>1</th>\n",
       "      <td>LP001022</td>\n",
       "      <td>N</td>\n",
       "    </tr>\n",
       "    <tr>\n",
       "      <th>2</th>\n",
       "      <td>LP001031</td>\n",
       "      <td>N</td>\n",
       "    </tr>\n",
       "    <tr>\n",
       "      <th>3</th>\n",
       "      <td>LP001035</td>\n",
       "      <td>N</td>\n",
       "    </tr>\n",
       "    <tr>\n",
       "      <th>4</th>\n",
       "      <td>LP001051</td>\n",
       "      <td>N</td>\n",
       "    </tr>\n",
       "  </tbody>\n",
       "</table>\n",
       "</div>"
      ],
      "text/plain": [
       "    Loan_ID Loan_Status\n",
       "0  LP001015  N         \n",
       "1  LP001022  N         \n",
       "2  LP001031  N         \n",
       "3  LP001035  N         \n",
       "4  LP001051  N         "
      ]
     },
     "execution_count": 3,
     "metadata": {},
     "output_type": "execute_result"
    }
   ],
   "source": [
    "ss.head()"
   ]
  },
  {
   "cell_type": "code",
   "execution_count": 4,
   "metadata": {},
   "outputs": [
    {
     "data": {
      "text/html": [
       "<div>\n",
       "<style scoped>\n",
       "    .dataframe tbody tr th:only-of-type {\n",
       "        vertical-align: middle;\n",
       "    }\n",
       "\n",
       "    .dataframe tbody tr th {\n",
       "        vertical-align: top;\n",
       "    }\n",
       "\n",
       "    .dataframe thead th {\n",
       "        text-align: right;\n",
       "    }\n",
       "</style>\n",
       "<table border=\"1\" class=\"dataframe\">\n",
       "  <thead>\n",
       "    <tr style=\"text-align: right;\">\n",
       "      <th></th>\n",
       "      <th>Loan_ID</th>\n",
       "      <th>Gender</th>\n",
       "      <th>Married</th>\n",
       "      <th>Dependents</th>\n",
       "      <th>Education</th>\n",
       "      <th>Self_Employed</th>\n",
       "      <th>ApplicantIncome</th>\n",
       "      <th>CoapplicantIncome</th>\n",
       "      <th>LoanAmount</th>\n",
       "      <th>Loan_Amount_Term</th>\n",
       "      <th>Credit_History</th>\n",
       "      <th>Property_Area</th>\n",
       "      <th>Loan_Status</th>\n",
       "    </tr>\n",
       "  </thead>\n",
       "  <tbody>\n",
       "    <tr>\n",
       "      <th>0</th>\n",
       "      <td>LP001002</td>\n",
       "      <td>Male</td>\n",
       "      <td>No</td>\n",
       "      <td>0</td>\n",
       "      <td>Graduate</td>\n",
       "      <td>No</td>\n",
       "      <td>5849</td>\n",
       "      <td>0.0</td>\n",
       "      <td>NaN</td>\n",
       "      <td>360.0</td>\n",
       "      <td>1.0</td>\n",
       "      <td>Urban</td>\n",
       "      <td>Y</td>\n",
       "    </tr>\n",
       "    <tr>\n",
       "      <th>1</th>\n",
       "      <td>LP001003</td>\n",
       "      <td>Male</td>\n",
       "      <td>Yes</td>\n",
       "      <td>1</td>\n",
       "      <td>Graduate</td>\n",
       "      <td>No</td>\n",
       "      <td>4583</td>\n",
       "      <td>1508.0</td>\n",
       "      <td>128.0</td>\n",
       "      <td>360.0</td>\n",
       "      <td>1.0</td>\n",
       "      <td>Rural</td>\n",
       "      <td>N</td>\n",
       "    </tr>\n",
       "    <tr>\n",
       "      <th>2</th>\n",
       "      <td>LP001005</td>\n",
       "      <td>Male</td>\n",
       "      <td>Yes</td>\n",
       "      <td>0</td>\n",
       "      <td>Graduate</td>\n",
       "      <td>Yes</td>\n",
       "      <td>3000</td>\n",
       "      <td>0.0</td>\n",
       "      <td>66.0</td>\n",
       "      <td>360.0</td>\n",
       "      <td>1.0</td>\n",
       "      <td>Urban</td>\n",
       "      <td>Y</td>\n",
       "    </tr>\n",
       "  </tbody>\n",
       "</table>\n",
       "</div>"
      ],
      "text/plain": [
       "    Loan_ID Gender Married Dependents Education Self_Employed  \\\n",
       "0  LP001002  Male   No      0          Graduate  No             \n",
       "1  LP001003  Male   Yes     1          Graduate  No             \n",
       "2  LP001005  Male   Yes     0          Graduate  Yes            \n",
       "\n",
       "   ApplicantIncome  CoapplicantIncome  LoanAmount  Loan_Amount_Term  \\\n",
       "0  5849             0.0               NaN          360.0              \n",
       "1  4583             1508.0             128.0       360.0              \n",
       "2  3000             0.0                66.0        360.0              \n",
       "\n",
       "   Credit_History Property_Area Loan_Status  \n",
       "0  1.0             Urban         Y           \n",
       "1  1.0             Rural         N           \n",
       "2  1.0             Urban         Y           "
      ]
     },
     "execution_count": 4,
     "metadata": {},
     "output_type": "execute_result"
    },
    {
     "data": {
      "text/html": [
       "<div>\n",
       "<style scoped>\n",
       "    .dataframe tbody tr th:only-of-type {\n",
       "        vertical-align: middle;\n",
       "    }\n",
       "\n",
       "    .dataframe tbody tr th {\n",
       "        vertical-align: top;\n",
       "    }\n",
       "\n",
       "    .dataframe thead th {\n",
       "        text-align: right;\n",
       "    }\n",
       "</style>\n",
       "<table border=\"1\" class=\"dataframe\">\n",
       "  <thead>\n",
       "    <tr style=\"text-align: right;\">\n",
       "      <th></th>\n",
       "      <th>Loan_ID</th>\n",
       "      <th>Gender</th>\n",
       "      <th>Married</th>\n",
       "      <th>Dependents</th>\n",
       "      <th>Education</th>\n",
       "      <th>Self_Employed</th>\n",
       "      <th>ApplicantIncome</th>\n",
       "      <th>CoapplicantIncome</th>\n",
       "      <th>LoanAmount</th>\n",
       "      <th>Loan_Amount_Term</th>\n",
       "      <th>Credit_History</th>\n",
       "      <th>Property_Area</th>\n",
       "    </tr>\n",
       "  </thead>\n",
       "  <tbody>\n",
       "    <tr>\n",
       "      <th>0</th>\n",
       "      <td>LP001015</td>\n",
       "      <td>Male</td>\n",
       "      <td>Yes</td>\n",
       "      <td>0</td>\n",
       "      <td>Graduate</td>\n",
       "      <td>No</td>\n",
       "      <td>5720</td>\n",
       "      <td>0</td>\n",
       "      <td>110.0</td>\n",
       "      <td>360.0</td>\n",
       "      <td>1.0</td>\n",
       "      <td>Urban</td>\n",
       "    </tr>\n",
       "    <tr>\n",
       "      <th>1</th>\n",
       "      <td>LP001022</td>\n",
       "      <td>Male</td>\n",
       "      <td>Yes</td>\n",
       "      <td>1</td>\n",
       "      <td>Graduate</td>\n",
       "      <td>No</td>\n",
       "      <td>3076</td>\n",
       "      <td>1500</td>\n",
       "      <td>126.0</td>\n",
       "      <td>360.0</td>\n",
       "      <td>1.0</td>\n",
       "      <td>Urban</td>\n",
       "    </tr>\n",
       "    <tr>\n",
       "      <th>2</th>\n",
       "      <td>LP001031</td>\n",
       "      <td>Male</td>\n",
       "      <td>Yes</td>\n",
       "      <td>2</td>\n",
       "      <td>Graduate</td>\n",
       "      <td>No</td>\n",
       "      <td>5000</td>\n",
       "      <td>1800</td>\n",
       "      <td>208.0</td>\n",
       "      <td>360.0</td>\n",
       "      <td>1.0</td>\n",
       "      <td>Urban</td>\n",
       "    </tr>\n",
       "  </tbody>\n",
       "</table>\n",
       "</div>"
      ],
      "text/plain": [
       "    Loan_ID Gender Married Dependents Education Self_Employed  \\\n",
       "0  LP001015  Male   Yes     0          Graduate  No             \n",
       "1  LP001022  Male   Yes     1          Graduate  No             \n",
       "2  LP001031  Male   Yes     2          Graduate  No             \n",
       "\n",
       "   ApplicantIncome  CoapplicantIncome  LoanAmount  Loan_Amount_Term  \\\n",
       "0  5720             0                  110.0       360.0              \n",
       "1  3076             1500               126.0       360.0              \n",
       "2  5000             1800               208.0       360.0              \n",
       "\n",
       "   Credit_History Property_Area  \n",
       "0  1.0             Urban         \n",
       "1  1.0             Urban         \n",
       "2  1.0             Urban         "
      ]
     },
     "execution_count": 4,
     "metadata": {},
     "output_type": "execute_result"
    }
   ],
   "source": [
    "train.head(3)\n",
    "test.head(3)"
   ]
  },
  {
   "cell_type": "code",
   "execution_count": 5,
   "metadata": {},
   "outputs": [],
   "source": [
    "#sampleDF['housing'] = sampleDF['housing'].map({'yes': 1, 'no': 0})\n",
    "train['Loan_Status'] = train['Loan_Status'].map({'Y': 1, 'N': 0})"
   ]
  },
  {
   "cell_type": "code",
   "execution_count": 6,
   "metadata": {},
   "outputs": [],
   "source": [
    "ID_COL, TARGET_COL = 'Loan_ID', 'Loan_Status'"
   ]
  },
  {
   "cell_type": "code",
   "execution_count": 7,
   "metadata": {},
   "outputs": [
    {
     "name": "stdout",
     "output_type": "stream",
     "text": [
      "\n",
      "Train contains 614 samples and 13 variables\n",
      "\n",
      "Test contains 367 samples and 12 variables\n",
      "\n",
      "The dataset contains 11 features\n"
     ]
    }
   ],
   "source": [
    "print(f'\\nTrain contains {train.shape[0]} samples and {train.shape[1]} variables')\n",
    "print(f'\\nTest contains {test.shape[0]} samples and {test.shape[1]} variables')\n",
    "\n",
    "features = [c for c in train.columns if c not in [ID_COL, TARGET_COL]]\n",
    "print(f'\\nThe dataset contains {len(features)} features')"
   ]
  },
  {
   "cell_type": "code",
   "execution_count": 8,
   "metadata": {},
   "outputs": [
    {
     "data": {
      "text/plain": [
       "1    0.687296\n",
       "0    0.312704\n",
       "Name: Loan_Status, dtype: float64"
      ]
     },
     "execution_count": 8,
     "metadata": {},
     "output_type": "execute_result"
    }
   ],
   "source": [
    "train[TARGET_COL].value_counts(normalize=True)"
   ]
  },
  {
   "cell_type": "code",
   "execution_count": 9,
   "metadata": {},
   "outputs": [
    {
     "data": {
      "image/png": "[encoded data removed]",
      "text/plain": [
       "<Figure size 432x288 with 1 Axes>"
      ]
     },
     "metadata": {},
     "output_type": "display_data"
    }
   ],
   "source": [
    "_ = sns.countplot(train[TARGET_COL])\n",
    "_ = plt.title(\"Target Distribution\", fontsize=14)"
   ]
  },
  {
   "cell_type": "code",
   "execution_count": 10,
   "metadata": {},
   "outputs": [
    {
     "name": "stdout",
     "output_type": "stream",
     "text": [
      "<class 'pandas.core.frame.DataFrame'>\n",
      "RangeIndex: 614 entries, 0 to 613\n",
      "Data columns (total 13 columns):\n",
      " #   Column             Non-Null Count  Dtype  \n",
      "---  ------             --------------  -----  \n",
      " 0   Loan_ID            614 non-null    object \n",
      " 1   Gender             601 non-null    object \n",
      " 2   Married            611 non-null    object \n",
      " 3   Dependents         599 non-null    object \n",
      " 4   Education          614 non-null    object \n",
      " 5   Self_Employed      582 non-null    object \n",
      " 6   ApplicantIncome    614 non-null    int64  \n",
      " 7   CoapplicantIncome  614 non-null    float64\n",
      " 8   LoanAmount         592 non-null    float64\n",
      " 9   Loan_Amount_Term   600 non-null    float64\n",
      " 10  Credit_History     564 non-null    float64\n",
      " 11  Property_Area      614 non-null    object \n",
      " 12  Loan_Status        614 non-null    int64  \n",
      "dtypes: float64(4), int64(2), object(7)\n",
      "memory usage: 62.5+ KB\n"
     ]
    }
   ],
   "source": [
    "train.info()"
   ]
  },
  {
   "cell_type": "code",
   "execution_count": 11,
   "metadata": {},
   "outputs": [
    {
     "data": {
      "text/plain": [
       "Credit_History       8.1\n",
       "Self_Employed        5.2\n",
       "LoanAmount           3.6\n",
       "Dependents           2.4\n",
       "Loan_Amount_Term     2.3\n",
       "Gender               2.1\n",
       "Married              0.5\n",
       "Loan_Status          0.0\n",
       "Property_Area        0.0\n",
       "CoapplicantIncome    0.0\n",
       "ApplicantIncome      0.0\n",
       "Education            0.0\n",
       "Loan_ID              0.0\n",
       "dtype: float64"
      ]
     },
     "execution_count": 11,
     "metadata": {},
     "output_type": "execute_result"
    }
   ],
   "source": [
    "null_values_per_variable = 100 * (train.isnull().sum()/train.shape[0]).round(3)#.reset_index()\n",
    "null_values_per_variable.sort_values(ascending=False)"
   ]
  },
  {
   "cell_type": "code",
   "execution_count": 12,
   "metadata": {},
   "outputs": [
    {
     "data": {
      "text/plain": [
       "Loan_ID              614\n",
       "Gender               2  \n",
       "Married              2  \n",
       "Dependents           4  \n",
       "Education            2  \n",
       "Self_Employed        2  \n",
       "ApplicantIncome      505\n",
       "CoapplicantIncome    287\n",
       "LoanAmount           203\n",
       "Loan_Amount_Term     10 \n",
       "Credit_History       2  \n",
       "Property_Area        3  \n",
       "Loan_Status          2  \n",
       "dtype: int64"
      ]
     },
     "execution_count": 12,
     "metadata": {},
     "output_type": "execute_result"
    }
   ],
   "source": [
    "train.nunique()"
   ]
  },
  {
   "cell_type": "code",
   "execution_count": 13,
   "metadata": {},
   "outputs": [
    {
     "data": {
      "text/plain": [
       "Index(['Loan_ID', 'Gender', 'Married', 'Dependents', 'Education',\n",
       "       'Self_Employed', 'ApplicantIncome', 'CoapplicantIncome', 'LoanAmount',\n",
       "       'Loan_Amount_Term', 'Credit_History', 'Property_Area', 'Loan_Status'],\n",
       "      dtype='object')"
      ]
     },
     "execution_count": 13,
     "metadata": {},
     "output_type": "execute_result"
    }
   ],
   "source": [
    "train.columns"
   ]
  },
  {
   "cell_type": "code",
   "execution_count": 14,
   "metadata": {},
   "outputs": [],
   "source": [
    "cat_cols = ['Gender', 'Married', 'Dependents', 'Education',\n",
    "       'Self_Employed','Loan_Amount_Term', 'Credit_History', 'Property_Area']"
   ]
  },
  {
   "cell_type": "code",
   "execution_count": 15,
   "metadata": {},
   "outputs": [
    {
     "data": {
      "text/plain": [
       "['ApplicantIncome', 'CoapplicantIncome', 'LoanAmount']"
      ]
     },
     "execution_count": 15,
     "metadata": {},
     "output_type": "execute_result"
    }
   ],
   "source": [
    "num_cols = [c for c in features if c not in cat_cols]\n",
    "num_cols"
   ]
  },
  {
   "cell_type": "code",
   "execution_count": 16,
   "metadata": {},
   "outputs": [
    {
     "data": {
      "image/png": "[encoded data removed]",
      "text/plain": [
       "<Figure size 1008x1584 with 8 Axes>"
      ]
     },
     "metadata": {},
     "output_type": "display_data"
    }
   ],
   "source": [
    "fig, axes = plt.subplots(4, 2, figsize=(14, 22))\n",
    "axes = [ax for axes_row in axes for ax in axes_row]\n",
    "\n",
    "for i, c in enumerate(train[cat_cols]):\n",
    "    _ = train[c].value_counts()[::-1].plot(kind = 'pie', ax=axes[i], title=c, autopct='%.0f', fontsize=12)\n",
    "    _ = axes[i].set_ylabel('')\n",
    "    \n",
    "_ = plt.tight_layout()"
   ]
  },
  {
   "cell_type": "code",
   "execution_count": 17,
   "metadata": {},
   "outputs": [
    {
     "data": {
      "image/png": "[encoded data removed]",
      "text/plain": [
       "<Figure size 1152x1152 with 9 Axes>"
      ]
     },
     "metadata": {},
     "output_type": "display_data"
    }
   ],
   "source": [
    "fig, axes = plt.subplots(3, 3, figsize=(16, 16))\n",
    "axes = [ax for axes_row in axes for ax in axes_row]\n",
    "\n",
    "for i, c in enumerate(train[cat_cols]):\n",
    "    _ = train[c].value_counts()[::-1].plot(kind = 'barh', ax=axes[i], title=c, fontsize=14)\n",
    "    \n",
    "_ = plt.tight_layout()"
   ]
  },
  {
   "cell_type": "code",
   "execution_count": 18,
   "metadata": {},
   "outputs": [
    {
     "data": {
      "image/png": "[encoded data removed]",
      "text/plain": [
       "<Figure size 1152x1728 with 8 Axes>"
      ]
     },
     "metadata": {},
     "output_type": "display_data"
    }
   ],
   "source": [
    "fig, axes = plt.subplots(4, 2, figsize=(16, 24))\n",
    "axes = [ax for axes_row in axes for ax in axes_row]\n",
    "\n",
    "for i, c in enumerate(train[cat_cols]):\n",
    "    fltr = train[TARGET_COL] == 0\n",
    "    vc_a = train[fltr][c].value_counts(normalize=True).reset_index().rename({'index' : c, c: 'count'}, axis=1)\n",
    "\n",
    "    vc_b = train[~fltr][c].value_counts(normalize=True).reset_index().rename({'index' : c, c: 'count'}, axis=1)\n",
    "\n",
    "    vc_a[TARGET_COL] = 0\n",
    "    vc_b[TARGET_COL] = 1\n",
    "\n",
    "    df = pd.concat([vc_a, vc_b]).reset_index(drop = True)\n",
    "\n",
    "    _ = sns.barplot(y = c, x = 'count', data =df , hue=TARGET_COL, ax=axes[i])\n",
    "    \n",
    "_ = plt.tight_layout()"
   ]
  },
  {
   "cell_type": "code",
   "execution_count": 19,
   "metadata": {},
   "outputs": [
    {
     "data": {
      "image/png": "[encoded data removed]",
      "text/plain": [
       "<Figure size 432x288 with 1 Axes>"
      ]
     },
     "metadata": {},
     "output_type": "display_data"
    }
   ],
   "source": [
    "_ = train.groupby('Education')[TARGET_COL].mean().sort_values().plot(kind = 'barh')"
   ]
  },
  {
   "cell_type": "code",
   "execution_count": 20,
   "metadata": {},
   "outputs": [
    {
     "data": {
      "image/png": "[encoded data removed]",
      "text/plain": [
       "<Figure size 576x1440 with 3 Axes>"
      ]
     },
     "metadata": {},
     "output_type": "display_data"
    }
   ],
   "source": [
    "fig, axes = plt.subplots(3, 1, figsize=(8, 20))\n",
    "for i, c in enumerate(num_cols):\n",
    "  _ = train[[c]].boxplot(ax=axes[i], vert=False)"
   ]
  },
  {
   "cell_type": "code",
   "execution_count": 22,
   "metadata": {},
   "outputs": [
    {
     "data": {
      "text/html": [
       "<div>\n",
       "<style scoped>\n",
       "    .dataframe tbody tr th:only-of-type {\n",
       "        vertical-align: middle;\n",
       "    }\n",
       "\n",
       "    .dataframe tbody tr th {\n",
       "        vertical-align: top;\n",
       "    }\n",
       "\n",
       "    .dataframe thead th {\n",
       "        text-align: right;\n",
       "    }\n",
       "</style>\n",
       "<table border=\"1\" class=\"dataframe\">\n",
       "  <thead>\n",
       "    <tr style=\"text-align: right;\">\n",
       "      <th></th>\n",
       "      <th>ApplicantIncome</th>\n",
       "      <th>CoapplicantIncome</th>\n",
       "      <th>LoanAmount</th>\n",
       "      <th>Loan_Amount_Term</th>\n",
       "      <th>Credit_History</th>\n",
       "      <th>Loan_Status</th>\n",
       "    </tr>\n",
       "  </thead>\n",
       "  <tbody>\n",
       "    <tr>\n",
       "      <th>count</th>\n",
       "      <td>614.000000</td>\n",
       "      <td>614.000000</td>\n",
       "      <td>592.000000</td>\n",
       "      <td>600.00000</td>\n",
       "      <td>564.000000</td>\n",
       "      <td>614.000000</td>\n",
       "    </tr>\n",
       "    <tr>\n",
       "      <th>mean</th>\n",
       "      <td>5403.459283</td>\n",
       "      <td>1621.245798</td>\n",
       "      <td>146.412162</td>\n",
       "      <td>342.00000</td>\n",
       "      <td>0.842199</td>\n",
       "      <td>0.687296</td>\n",
       "    </tr>\n",
       "    <tr>\n",
       "      <th>std</th>\n",
       "      <td>6109.041673</td>\n",
       "      <td>2926.248369</td>\n",
       "      <td>85.587325</td>\n",
       "      <td>65.12041</td>\n",
       "      <td>0.364878</td>\n",
       "      <td>0.463973</td>\n",
       "    </tr>\n",
       "    <tr>\n",
       "      <th>min</th>\n",
       "      <td>150.000000</td>\n",
       "      <td>0.000000</td>\n",
       "      <td>9.000000</td>\n",
       "      <td>12.00000</td>\n",
       "      <td>0.000000</td>\n",
       "      <td>0.000000</td>\n",
       "    </tr>\n",
       "    <tr>\n",
       "      <th>25%</th>\n",
       "      <td>2877.500000</td>\n",
       "      <td>0.000000</td>\n",
       "      <td>100.000000</td>\n",
       "      <td>360.00000</td>\n",
       "      <td>1.000000</td>\n",
       "      <td>0.000000</td>\n",
       "    </tr>\n",
       "    <tr>\n",
       "      <th>50%</th>\n",
       "      <td>3812.500000</td>\n",
       "      <td>1188.500000</td>\n",
       "      <td>128.000000</td>\n",
       "      <td>360.00000</td>\n",
       "      <td>1.000000</td>\n",
       "      <td>1.000000</td>\n",
       "    </tr>\n",
       "    <tr>\n",
       "      <th>75%</th>\n",
       "      <td>5795.000000</td>\n",
       "      <td>2297.250000</td>\n",
       "      <td>168.000000</td>\n",
       "      <td>360.00000</td>\n",
       "      <td>1.000000</td>\n",
       "      <td>1.000000</td>\n",
       "    </tr>\n",
       "    <tr>\n",
       "      <th>max</th>\n",
       "      <td>81000.000000</td>\n",
       "      <td>41667.000000</td>\n",
       "      <td>700.000000</td>\n",
       "      <td>480.00000</td>\n",
       "      <td>1.000000</td>\n",
       "      <td>1.000000</td>\n",
       "    </tr>\n",
       "  </tbody>\n",
       "</table>\n",
       "</div>"
      ],
      "text/plain": [
       "       ApplicantIncome  CoapplicantIncome  LoanAmount  Loan_Amount_Term  \\\n",
       "count  614.000000       614.000000         592.000000  600.00000          \n",
       "mean   5403.459283      1621.245798        146.412162  342.00000          \n",
       "std    6109.041673      2926.248369        85.587325   65.12041           \n",
       "min    150.000000       0.000000           9.000000    12.00000           \n",
       "25%    2877.500000      0.000000           100.000000  360.00000          \n",
       "50%    3812.500000      1188.500000        128.000000  360.00000          \n",
       "75%    5795.000000      2297.250000        168.000000  360.00000          \n",
       "max    81000.000000     41667.000000       700.000000  480.00000          \n",
       "\n",
       "       Credit_History  Loan_Status  \n",
       "count  564.000000      614.000000   \n",
       "mean   0.842199        0.687296     \n",
       "std    0.364878        0.463973     \n",
       "min    0.000000        0.000000     \n",
       "25%    1.000000        0.000000     \n",
       "50%    1.000000        1.000000     \n",
       "75%    1.000000        1.000000     \n",
       "max    1.000000        1.000000     "
      ]
     },
     "execution_count": 22,
     "metadata": {},
     "output_type": "execute_result"
    }
   ],
   "source": [
    "train.describe()"
   ]
  },
  {
   "cell_type": "code",
   "execution_count": 23,
   "metadata": {},
   "outputs": [],
   "source": [
    "# #Check it once again\n",
    "# sns.set(font_scale=1.3)\n",
    "# fig, axes = plt.subplots(4, 2, figsize=(18, 14))\n",
    "# axes = [ax for axes_row in axes for ax in axes_row]\n",
    "# for i, c in enumerate(num_cols):\n",
    "#   plot = sns.kdeplot(data=train, x=c, ax=axes[i], fill=True)\n",
    "# plt.tight_layout()"
   ]
  },
  {
   "cell_type": "code",
   "execution_count": 24,
   "metadata": {},
   "outputs": [],
   "source": [
    "# sns.set(font_scale=1.3)\n",
    "# fig, axes = plt.subplots(4, 2, figsize=(18, 14))\n",
    "# axes = [ax for axes_row in axes for ax in axes_row]\n",
    "# for i, c in enumerate(num_cols):\n",
    "#   plot = sns.kdeplot(data=train, x=c, hue=TARGET_COL, multiple='fill', ax=axes[i])\n",
    "# plt.tight_layout()"
   ]
  },
  {
   "cell_type": "code",
   "execution_count": 25,
   "metadata": {},
   "outputs": [
    {
     "data": {
      "image/png": "[encoded data removed]",
      "text/plain": [
       "<Figure size 1296x1008 with 4 Axes>"
      ]
     },
     "metadata": {},
     "output_type": "display_data"
    }
   ],
   "source": [
    "sns.set(font_scale=1.3)\n",
    "fig, axes = plt.subplots(2, 2, figsize=(18, 14))\n",
    "axes = [ax for axes_row in axes for ax in axes_row]\n",
    "for i, c in enumerate(num_cols):\n",
    "  plot = train.groupby(TARGET_COL)[c].median().plot(kind = 'barh', title=f'Median_{c}', ax=axes[i])\n",
    "plt.tight_layout()"
   ]
  },
  {
   "cell_type": "code",
   "execution_count": 26,
   "metadata": {},
   "outputs": [
    {
     "data": {
      "text/plain": [
       "<Figure size 360x360 with 0 Axes>"
      ]
     },
     "execution_count": 26,
     "metadata": {},
     "output_type": "execute_result"
    },
    {
     "data": {
      "image/png": "[encoded data removed]",
      "text/plain": [
       "<Figure size 360x360 with 2 Axes>"
      ]
     },
     "metadata": {},
     "output_type": "display_data"
    }
   ],
   "source": [
    "plt.figure(figsize=(5, 5))\n",
    "_ = sns.heatmap(train[num_cols].corr(), annot=True)"
   ]
  },
  {
   "cell_type": "code",
   "execution_count": 27,
   "metadata": {},
   "outputs": [
    {
     "data": {
      "text/plain": [
       "1    422\n",
       "0    192\n",
       "Name: Loan_Status, dtype: int64"
      ]
     },
     "execution_count": 27,
     "metadata": {},
     "output_type": "execute_result"
    }
   ],
   "source": [
    "target = train[TARGET_COL]\n",
    "target.value_counts()"
   ]
  },
  {
   "cell_type": "code",
   "execution_count": 28,
   "metadata": {},
   "outputs": [],
   "source": [
    "#BaseLine Models\n",
    "def download_preds(preds_test, file_name = 'Loan_Pred.csv'):\n",
    "\n",
    "  ## 1. Setting the target column with our obtained predictions\n",
    "  ss[TARGET_COL] = preds_test\n",
    "  ss[TARGET_COL] = ss[TARGET_COL].map({1: 'Y', 0: 'N'})\n",
    "  ## 2. Saving our predictions to a csv file\n",
    "\n",
    "  ss.to_csv(file_name, index = False)"
   ]
  },
  {
   "cell_type": "code",
   "execution_count": 29,
   "metadata": {},
   "outputs": [
    {
     "name": "stdout",
     "output_type": "stream",
     "text": [
      "Accuracy score is: 0.3127035830618892\n",
      "F1 score is: 0.0\n"
     ]
    }
   ],
   "source": [
    "preds_target = np.zeros(len(train))\n",
    "\n",
    "accuracy = accuracy_score(target, preds_target)\n",
    "f1 = f1_score(target, preds_target)\n",
    "\n",
    "print(f'Accuracy score is: {accuracy}')\n",
    "print(f'F1 score is: {f1}')"
   ]
  },
  {
   "cell_type": "code",
   "execution_count": 30,
   "metadata": {},
   "outputs": [],
   "source": [
    "preds_test = np.zeros(len(test))"
   ]
  },
  {
   "cell_type": "code",
   "execution_count": 31,
   "metadata": {},
   "outputs": [],
   "source": [
    "download_preds(preds_test, file_name = 'Loan_Pred_Zero.csv')"
   ]
  },
  {
   "cell_type": "code",
   "execution_count": 32,
   "metadata": {},
   "outputs": [
    {
     "name": "stdout",
     "output_type": "stream",
     "text": [
      "Accuracy score is: 0.503257328990228\n",
      "F1 score is: 0.5827633378932969\n"
     ]
    }
   ],
   "source": [
    "#Random with probability\n",
    "np.random.seed(2)\n",
    "\n",
    "preds_target = np.random.choice([0, 1], size=len(train))\n",
    "\n",
    "\n",
    "accuracy = accuracy_score(target, preds_target)\n",
    "f1 = f1_score(target, preds_target)\n",
    "\n",
    "print(f'Accuracy score is: {accuracy}')\n",
    "print(f'F1 score is: {f1}')"
   ]
  },
  {
   "cell_type": "code",
   "execution_count": 33,
   "metadata": {},
   "outputs": [],
   "source": [
    "np.random.seed(2)\n",
    "preds_test = np.random.choice([0, 1], size=len(test))\n",
    "download_preds(preds_test, file_name = 'Loan_Pred_Prob.csv')"
   ]
  },
  {
   "cell_type": "code",
   "execution_count": 34,
   "metadata": {},
   "outputs": [
    {
     "data": {
      "image/png": "[encoded data removed]",
      "text/plain": [
       "<Figure size 1008x288 with 2 Axes>"
      ]
     },
     "metadata": {},
     "output_type": "display_data"
    }
   ],
   "source": [
    "#Rule Based: Classifying using Most Important Feature(s)\n",
    "sns.set(font_scale=1.3)\n",
    "fig, axes = plt.subplots(1, 2, figsize=(14, 4))\n",
    "for i, c in enumerate(['CoapplicantIncome', 'LoanAmount']):\n",
    "  plot = train.groupby(TARGET_COL)[c].median().plot(kind = 'barh', title=f'Median_{c}', ax=axes[i])"
   ]
  },
  {
   "cell_type": "code",
   "execution_count": 35,
   "metadata": {},
   "outputs": [],
   "source": [
    "def rule_based_clf(df):\n",
    "  preds = np.ones(len(df))\n",
    "  rule = (df['CoapplicantIncome'] < 250) | (df['CoapplicantIncome'] < 1200)\n",
    "  preds[rule] = 0\n",
    "  return preds"
   ]
  },
  {
   "cell_type": "code",
   "execution_count": 36,
   "metadata": {},
   "outputs": [
    {
     "name": "stdout",
     "output_type": "stream",
     "text": [
      "Accuracy score is: 0.503257328990228\n",
      "F1 score is: 0.5827633378932969\n"
     ]
    }
   ],
   "source": [
    "preds_train = rule_based_clf(train)\n",
    "accuracy = accuracy_score(target, preds_target)\n",
    "f1 = f1_score(target, preds_target)\n",
    "\n",
    "print(f'Accuracy score is: {accuracy}')\n",
    "print(f'F1 score is: {f1}')"
   ]
  },
  {
   "cell_type": "code",
   "execution_count": 37,
   "metadata": {},
   "outputs": [],
   "source": [
    "preds_test = rule_based_clf(test)\n",
    "download_preds(preds_test, file_name='Load_Pred_rule_based_2.csv')"
   ]
  },
  {
   "cell_type": "code",
   "execution_count": 38,
   "metadata": {},
   "outputs": [],
   "source": [
    "!pip install -q catboost\n",
    "!pip install -q --upgrade seaborn"
   ]
  },
  {
   "cell_type": "code",
   "execution_count": 39,
   "metadata": {},
   "outputs": [],
   "source": [
    "import numpy as np\n",
    "import pandas as pd\n",
    "import matplotlib.pyplot as plt\n",
    "%matplotlib inline\n",
    "plt.style.use('seaborn-whitegrid')\n",
    "\n",
    "import seaborn as sns\n",
    "from sklearn.model_selection import train_test_split, StratifiedKFold\n",
    "from sklearn.metrics import accuracy_score, f1_score\n",
    "\n",
    "from sklearn.tree import DecisionTreeClassifier\n",
    "from sklearn.ensemble import RandomForestClassifier\n",
    "\n",
    "from sklearn.linear_model import LogisticRegression\n",
    "\n",
    "from lightgbm import LGBMClassifier\n",
    "from catboost import CatBoostClassifier\n",
    "#from xgboost import XGBClassifier\n",
    "\n",
    "from IPython.core.interactiveshell import InteractiveShell\n",
    "InteractiveShell.ast_node_interactivity = \"all\"\n",
    "\n",
    "pd.set_option('display.max_colwidth', -1)\n",
    "\n",
    "import warnings\n",
    "warnings.simplefilter('ignore')"
   ]
  },
  {
   "cell_type": "code",
   "execution_count": 40,
   "metadata": {},
   "outputs": [],
   "source": [
    "?pd.get_dummies"
   ]
  },
  {
   "cell_type": "code",
   "execution_count": 41,
   "metadata": {},
   "outputs": [
    {
     "data": {
      "text/html": [
       "<div>\n",
       "<style scoped>\n",
       "    .dataframe tbody tr th:only-of-type {\n",
       "        vertical-align: middle;\n",
       "    }\n",
       "\n",
       "    .dataframe tbody tr th {\n",
       "        vertical-align: top;\n",
       "    }\n",
       "\n",
       "    .dataframe thead th {\n",
       "        text-align: right;\n",
       "    }\n",
       "</style>\n",
       "<table border=\"1\" class=\"dataframe\">\n",
       "  <thead>\n",
       "    <tr style=\"text-align: right;\">\n",
       "      <th></th>\n",
       "      <th>Gender_Female</th>\n",
       "      <th>Gender_Male</th>\n",
       "      <th>Married_No</th>\n",
       "      <th>Married_Yes</th>\n",
       "      <th>Dependents_0</th>\n",
       "      <th>Dependents_1</th>\n",
       "      <th>Dependents_2</th>\n",
       "      <th>Dependents_3+</th>\n",
       "      <th>Education_Graduate</th>\n",
       "      <th>Education_Not Graduate</th>\n",
       "      <th>Self_Employed_No</th>\n",
       "      <th>Self_Employed_Yes</th>\n",
       "      <th>Property_Area_Rural</th>\n",
       "      <th>Property_Area_Semiurban</th>\n",
       "      <th>Property_Area_Urban</th>\n",
       "    </tr>\n",
       "  </thead>\n",
       "  <tbody>\n",
       "    <tr>\n",
       "      <th>0</th>\n",
       "      <td>0</td>\n",
       "      <td>1</td>\n",
       "      <td>1</td>\n",
       "      <td>0</td>\n",
       "      <td>1</td>\n",
       "      <td>0</td>\n",
       "      <td>0</td>\n",
       "      <td>0</td>\n",
       "      <td>1</td>\n",
       "      <td>0</td>\n",
       "      <td>1</td>\n",
       "      <td>0</td>\n",
       "      <td>0</td>\n",
       "      <td>0</td>\n",
       "      <td>1</td>\n",
       "    </tr>\n",
       "    <tr>\n",
       "      <th>1</th>\n",
       "      <td>0</td>\n",
       "      <td>1</td>\n",
       "      <td>0</td>\n",
       "      <td>1</td>\n",
       "      <td>0</td>\n",
       "      <td>1</td>\n",
       "      <td>0</td>\n",
       "      <td>0</td>\n",
       "      <td>1</td>\n",
       "      <td>0</td>\n",
       "      <td>1</td>\n",
       "      <td>0</td>\n",
       "      <td>1</td>\n",
       "      <td>0</td>\n",
       "      <td>0</td>\n",
       "    </tr>\n",
       "    <tr>\n",
       "      <th>2</th>\n",
       "      <td>0</td>\n",
       "      <td>1</td>\n",
       "      <td>0</td>\n",
       "      <td>1</td>\n",
       "      <td>1</td>\n",
       "      <td>0</td>\n",
       "      <td>0</td>\n",
       "      <td>0</td>\n",
       "      <td>1</td>\n",
       "      <td>0</td>\n",
       "      <td>0</td>\n",
       "      <td>1</td>\n",
       "      <td>0</td>\n",
       "      <td>0</td>\n",
       "      <td>1</td>\n",
       "    </tr>\n",
       "    <tr>\n",
       "      <th>3</th>\n",
       "      <td>0</td>\n",
       "      <td>1</td>\n",
       "      <td>0</td>\n",
       "      <td>1</td>\n",
       "      <td>1</td>\n",
       "      <td>0</td>\n",
       "      <td>0</td>\n",
       "      <td>0</td>\n",
       "      <td>0</td>\n",
       "      <td>1</td>\n",
       "      <td>1</td>\n",
       "      <td>0</td>\n",
       "      <td>0</td>\n",
       "      <td>0</td>\n",
       "      <td>1</td>\n",
       "    </tr>\n",
       "    <tr>\n",
       "      <th>4</th>\n",
       "      <td>0</td>\n",
       "      <td>1</td>\n",
       "      <td>1</td>\n",
       "      <td>0</td>\n",
       "      <td>1</td>\n",
       "      <td>0</td>\n",
       "      <td>0</td>\n",
       "      <td>0</td>\n",
       "      <td>1</td>\n",
       "      <td>0</td>\n",
       "      <td>1</td>\n",
       "      <td>0</td>\n",
       "      <td>0</td>\n",
       "      <td>0</td>\n",
       "      <td>1</td>\n",
       "    </tr>\n",
       "    <tr>\n",
       "      <th>...</th>\n",
       "      <td>...</td>\n",
       "      <td>...</td>\n",
       "      <td>...</td>\n",
       "      <td>...</td>\n",
       "      <td>...</td>\n",
       "      <td>...</td>\n",
       "      <td>...</td>\n",
       "      <td>...</td>\n",
       "      <td>...</td>\n",
       "      <td>...</td>\n",
       "      <td>...</td>\n",
       "      <td>...</td>\n",
       "      <td>...</td>\n",
       "      <td>...</td>\n",
       "      <td>...</td>\n",
       "    </tr>\n",
       "    <tr>\n",
       "      <th>609</th>\n",
       "      <td>1</td>\n",
       "      <td>0</td>\n",
       "      <td>1</td>\n",
       "      <td>0</td>\n",
       "      <td>1</td>\n",
       "      <td>0</td>\n",
       "      <td>0</td>\n",
       "      <td>0</td>\n",
       "      <td>1</td>\n",
       "      <td>0</td>\n",
       "      <td>1</td>\n",
       "      <td>0</td>\n",
       "      <td>1</td>\n",
       "      <td>0</td>\n",
       "      <td>0</td>\n",
       "    </tr>\n",
       "    <tr>\n",
       "      <th>610</th>\n",
       "      <td>0</td>\n",
       "      <td>1</td>\n",
       "      <td>0</td>\n",
       "      <td>1</td>\n",
       "      <td>0</td>\n",
       "      <td>0</td>\n",
       "      <td>0</td>\n",
       "      <td>1</td>\n",
       "      <td>1</td>\n",
       "      <td>0</td>\n",
       "      <td>1</td>\n",
       "      <td>0</td>\n",
       "      <td>1</td>\n",
       "      <td>0</td>\n",
       "      <td>0</td>\n",
       "    </tr>\n",
       "    <tr>\n",
       "      <th>611</th>\n",
       "      <td>0</td>\n",
       "      <td>1</td>\n",
       "      <td>0</td>\n",
       "      <td>1</td>\n",
       "      <td>0</td>\n",
       "      <td>1</td>\n",
       "      <td>0</td>\n",
       "      <td>0</td>\n",
       "      <td>1</td>\n",
       "      <td>0</td>\n",
       "      <td>1</td>\n",
       "      <td>0</td>\n",
       "      <td>0</td>\n",
       "      <td>0</td>\n",
       "      <td>1</td>\n",
       "    </tr>\n",
       "    <tr>\n",
       "      <th>612</th>\n",
       "      <td>0</td>\n",
       "      <td>1</td>\n",
       "      <td>0</td>\n",
       "      <td>1</td>\n",
       "      <td>0</td>\n",
       "      <td>0</td>\n",
       "      <td>1</td>\n",
       "      <td>0</td>\n",
       "      <td>1</td>\n",
       "      <td>0</td>\n",
       "      <td>1</td>\n",
       "      <td>0</td>\n",
       "      <td>0</td>\n",
       "      <td>0</td>\n",
       "      <td>1</td>\n",
       "    </tr>\n",
       "    <tr>\n",
       "      <th>613</th>\n",
       "      <td>1</td>\n",
       "      <td>0</td>\n",
       "      <td>1</td>\n",
       "      <td>0</td>\n",
       "      <td>1</td>\n",
       "      <td>0</td>\n",
       "      <td>0</td>\n",
       "      <td>0</td>\n",
       "      <td>1</td>\n",
       "      <td>0</td>\n",
       "      <td>0</td>\n",
       "      <td>1</td>\n",
       "      <td>0</td>\n",
       "      <td>1</td>\n",
       "      <td>0</td>\n",
       "    </tr>\n",
       "  </tbody>\n",
       "</table>\n",
       "<p>614 rows × 15 columns</p>\n",
       "</div>"
      ],
      "text/plain": [
       "     Gender_Female  Gender_Male  Married_No  Married_Yes  Dependents_0  \\\n",
       "0    0              1            1           0            1              \n",
       "1    0              1            0           1            0              \n",
       "2    0              1            0           1            1              \n",
       "3    0              1            0           1            1              \n",
       "4    0              1            1           0            1              \n",
       "..  ..             ..           ..          ..           ..              \n",
       "609  1              0            1           0            1              \n",
       "610  0              1            0           1            0              \n",
       "611  0              1            0           1            0              \n",
       "612  0              1            0           1            0              \n",
       "613  1              0            1           0            1              \n",
       "\n",
       "     Dependents_1  Dependents_2  Dependents_3+  Education_Graduate  \\\n",
       "0    0             0             0              1                    \n",
       "1    1             0             0              1                    \n",
       "2    0             0             0              1                    \n",
       "3    0             0             0              0                    \n",
       "4    0             0             0              1                    \n",
       "..  ..            ..            ..             ..                    \n",
       "609  0             0             0              1                    \n",
       "610  0             0             1              1                    \n",
       "611  1             0             0              1                    \n",
       "612  0             1             0              1                    \n",
       "613  0             0             0              1                    \n",
       "\n",
       "     Education_Not Graduate  Self_Employed_No  Self_Employed_Yes  \\\n",
       "0    0                       1                 0                   \n",
       "1    0                       1                 0                   \n",
       "2    0                       0                 1                   \n",
       "3    1                       1                 0                   \n",
       "4    0                       1                 0                   \n",
       "..  ..                      ..                ..                   \n",
       "609  0                       1                 0                   \n",
       "610  0                       1                 0                   \n",
       "611  0                       1                 0                   \n",
       "612  0                       1                 0                   \n",
       "613  0                       0                 1                   \n",
       "\n",
       "     Property_Area_Rural  Property_Area_Semiurban  Property_Area_Urban  \n",
       "0    0                    0                        1                    \n",
       "1    1                    0                        0                    \n",
       "2    0                    0                        1                    \n",
       "3    0                    0                        1                    \n",
       "4    0                    0                        1                    \n",
       "..  ..                   ..                       ..                    \n",
       "609  1                    0                        0                    \n",
       "610  1                    0                        0                    \n",
       "611  0                    0                        1                    \n",
       "612  0                    0                        1                    \n",
       "613  0                    1                        0                    \n",
       "\n",
       "[614 rows x 15 columns]"
      ]
     },
     "execution_count": 41,
     "metadata": {},
     "output_type": "execute_result"
    }
   ],
   "source": [
    "pd.get_dummies(train[['Gender', 'Married', 'Dependents', 'Education',\n",
    "       'Self_Employed', 'Property_Area']])"
   ]
  },
  {
   "cell_type": "code",
   "execution_count": 42,
   "metadata": {},
   "outputs": [
    {
     "data": {
      "text/plain": [
       "((614, 13), (367, 12))"
      ]
     },
     "execution_count": 42,
     "metadata": {},
     "output_type": "execute_result"
    }
   ],
   "source": [
    "train.shape, test.shape"
   ]
  },
  {
   "cell_type": "code",
   "execution_count": 43,
   "metadata": {},
   "outputs": [
    {
     "data": {
      "text/plain": [
       "(981, 13)"
      ]
     },
     "execution_count": 43,
     "metadata": {},
     "output_type": "execute_result"
    }
   ],
   "source": [
    "df = pd.concat([train, test], axis=0).reset_index(drop = True)\n",
    "df.shape"
   ]
  },
  {
   "cell_type": "code",
   "execution_count": 44,
   "metadata": {},
   "outputs": [
    {
     "data": {
      "text/html": [
       "<div>\n",
       "<style scoped>\n",
       "    .dataframe tbody tr th:only-of-type {\n",
       "        vertical-align: middle;\n",
       "    }\n",
       "\n",
       "    .dataframe tbody tr th {\n",
       "        vertical-align: top;\n",
       "    }\n",
       "\n",
       "    .dataframe thead th {\n",
       "        text-align: right;\n",
       "    }\n",
       "</style>\n",
       "<table border=\"1\" class=\"dataframe\">\n",
       "  <thead>\n",
       "    <tr style=\"text-align: right;\">\n",
       "      <th></th>\n",
       "      <th>Loan_ID</th>\n",
       "      <th>Gender</th>\n",
       "      <th>Married</th>\n",
       "      <th>Dependents</th>\n",
       "      <th>Education</th>\n",
       "      <th>Self_Employed</th>\n",
       "      <th>ApplicantIncome</th>\n",
       "      <th>CoapplicantIncome</th>\n",
       "      <th>LoanAmount</th>\n",
       "      <th>Loan_Amount_Term</th>\n",
       "      <th>Credit_History</th>\n",
       "      <th>Property_Area</th>\n",
       "      <th>Loan_Status</th>\n",
       "    </tr>\n",
       "  </thead>\n",
       "  <tbody>\n",
       "    <tr>\n",
       "      <th>0</th>\n",
       "      <td>LP001002</td>\n",
       "      <td>Male</td>\n",
       "      <td>No</td>\n",
       "      <td>0</td>\n",
       "      <td>Graduate</td>\n",
       "      <td>No</td>\n",
       "      <td>5849</td>\n",
       "      <td>0.0</td>\n",
       "      <td>NaN</td>\n",
       "      <td>360.0</td>\n",
       "      <td>1.0</td>\n",
       "      <td>Urban</td>\n",
       "      <td>1.0</td>\n",
       "    </tr>\n",
       "    <tr>\n",
       "      <th>1</th>\n",
       "      <td>LP001003</td>\n",
       "      <td>Male</td>\n",
       "      <td>Yes</td>\n",
       "      <td>1</td>\n",
       "      <td>Graduate</td>\n",
       "      <td>No</td>\n",
       "      <td>4583</td>\n",
       "      <td>1508.0</td>\n",
       "      <td>128.0</td>\n",
       "      <td>360.0</td>\n",
       "      <td>1.0</td>\n",
       "      <td>Rural</td>\n",
       "      <td>0.0</td>\n",
       "    </tr>\n",
       "    <tr>\n",
       "      <th>2</th>\n",
       "      <td>LP001005</td>\n",
       "      <td>Male</td>\n",
       "      <td>Yes</td>\n",
       "      <td>0</td>\n",
       "      <td>Graduate</td>\n",
       "      <td>Yes</td>\n",
       "      <td>3000</td>\n",
       "      <td>0.0</td>\n",
       "      <td>66.0</td>\n",
       "      <td>360.0</td>\n",
       "      <td>1.0</td>\n",
       "      <td>Urban</td>\n",
       "      <td>1.0</td>\n",
       "    </tr>\n",
       "    <tr>\n",
       "      <th>3</th>\n",
       "      <td>LP001006</td>\n",
       "      <td>Male</td>\n",
       "      <td>Yes</td>\n",
       "      <td>0</td>\n",
       "      <td>Not Graduate</td>\n",
       "      <td>No</td>\n",
       "      <td>2583</td>\n",
       "      <td>2358.0</td>\n",
       "      <td>120.0</td>\n",
       "      <td>360.0</td>\n",
       "      <td>1.0</td>\n",
       "      <td>Urban</td>\n",
       "      <td>1.0</td>\n",
       "    </tr>\n",
       "    <tr>\n",
       "      <th>4</th>\n",
       "      <td>LP001008</td>\n",
       "      <td>Male</td>\n",
       "      <td>No</td>\n",
       "      <td>0</td>\n",
       "      <td>Graduate</td>\n",
       "      <td>No</td>\n",
       "      <td>6000</td>\n",
       "      <td>0.0</td>\n",
       "      <td>141.0</td>\n",
       "      <td>360.0</td>\n",
       "      <td>1.0</td>\n",
       "      <td>Urban</td>\n",
       "      <td>1.0</td>\n",
       "    </tr>\n",
       "  </tbody>\n",
       "</table>\n",
       "</div>"
      ],
      "text/plain": [
       "    Loan_ID Gender Married Dependents     Education Self_Employed  \\\n",
       "0  LP001002  Male   No      0          Graduate      No             \n",
       "1  LP001003  Male   Yes     1          Graduate      No             \n",
       "2  LP001005  Male   Yes     0          Graduate      Yes            \n",
       "3  LP001006  Male   Yes     0          Not Graduate  No             \n",
       "4  LP001008  Male   No      0          Graduate      No             \n",
       "\n",
       "   ApplicantIncome  CoapplicantIncome  LoanAmount  Loan_Amount_Term  \\\n",
       "0  5849             0.0               NaN          360.0              \n",
       "1  4583             1508.0             128.0       360.0              \n",
       "2  3000             0.0                66.0        360.0              \n",
       "3  2583             2358.0             120.0       360.0              \n",
       "4  6000             0.0                141.0       360.0              \n",
       "\n",
       "   Credit_History Property_Area  Loan_Status  \n",
       "0  1.0             Urban         1.0          \n",
       "1  1.0             Rural         0.0          \n",
       "2  1.0             Urban         1.0          \n",
       "3  1.0             Urban         1.0          \n",
       "4  1.0             Urban         1.0          "
      ]
     },
     "execution_count": 44,
     "metadata": {},
     "output_type": "execute_result"
    }
   ],
   "source": [
    "df.head()"
   ]
  },
  {
   "cell_type": "code",
   "execution_count": 45,
   "metadata": {},
   "outputs": [],
   "source": [
    "df = pd.get_dummies(df, columns = cat_cols)"
   ]
  },
  {
   "cell_type": "code",
   "execution_count": 46,
   "metadata": {},
   "outputs": [
    {
     "data": {
      "text/html": [
       "<div>\n",
       "<style scoped>\n",
       "    .dataframe tbody tr th:only-of-type {\n",
       "        vertical-align: middle;\n",
       "    }\n",
       "\n",
       "    .dataframe tbody tr th {\n",
       "        vertical-align: top;\n",
       "    }\n",
       "\n",
       "    .dataframe thead th {\n",
       "        text-align: right;\n",
       "    }\n",
       "</style>\n",
       "<table border=\"1\" class=\"dataframe\">\n",
       "  <thead>\n",
       "    <tr style=\"text-align: right;\">\n",
       "      <th></th>\n",
       "      <th>Loan_ID</th>\n",
       "      <th>ApplicantIncome</th>\n",
       "      <th>CoapplicantIncome</th>\n",
       "      <th>LoanAmount</th>\n",
       "      <th>Loan_Status</th>\n",
       "      <th>Gender_Female</th>\n",
       "      <th>Gender_Male</th>\n",
       "      <th>Married_No</th>\n",
       "      <th>Married_Yes</th>\n",
       "      <th>Dependents_0</th>\n",
       "      <th>...</th>\n",
       "      <th>Loan_Amount_Term_240.0</th>\n",
       "      <th>Loan_Amount_Term_300.0</th>\n",
       "      <th>Loan_Amount_Term_350.0</th>\n",
       "      <th>Loan_Amount_Term_360.0</th>\n",
       "      <th>Loan_Amount_Term_480.0</th>\n",
       "      <th>Credit_History_0.0</th>\n",
       "      <th>Credit_History_1.0</th>\n",
       "      <th>Property_Area_Rural</th>\n",
       "      <th>Property_Area_Semiurban</th>\n",
       "      <th>Property_Area_Urban</th>\n",
       "    </tr>\n",
       "  </thead>\n",
       "  <tbody>\n",
       "    <tr>\n",
       "      <th>0</th>\n",
       "      <td>LP001002</td>\n",
       "      <td>5849</td>\n",
       "      <td>0.0</td>\n",
       "      <td>NaN</td>\n",
       "      <td>1.0</td>\n",
       "      <td>0</td>\n",
       "      <td>1</td>\n",
       "      <td>1</td>\n",
       "      <td>0</td>\n",
       "      <td>1</td>\n",
       "      <td>...</td>\n",
       "      <td>0</td>\n",
       "      <td>0</td>\n",
       "      <td>0</td>\n",
       "      <td>1</td>\n",
       "      <td>0</td>\n",
       "      <td>0</td>\n",
       "      <td>1</td>\n",
       "      <td>0</td>\n",
       "      <td>0</td>\n",
       "      <td>1</td>\n",
       "    </tr>\n",
       "    <tr>\n",
       "      <th>1</th>\n",
       "      <td>LP001003</td>\n",
       "      <td>4583</td>\n",
       "      <td>1508.0</td>\n",
       "      <td>128.0</td>\n",
       "      <td>0.0</td>\n",
       "      <td>0</td>\n",
       "      <td>1</td>\n",
       "      <td>0</td>\n",
       "      <td>1</td>\n",
       "      <td>0</td>\n",
       "      <td>...</td>\n",
       "      <td>0</td>\n",
       "      <td>0</td>\n",
       "      <td>0</td>\n",
       "      <td>1</td>\n",
       "      <td>0</td>\n",
       "      <td>0</td>\n",
       "      <td>1</td>\n",
       "      <td>1</td>\n",
       "      <td>0</td>\n",
       "      <td>0</td>\n",
       "    </tr>\n",
       "    <tr>\n",
       "      <th>2</th>\n",
       "      <td>LP001005</td>\n",
       "      <td>3000</td>\n",
       "      <td>0.0</td>\n",
       "      <td>66.0</td>\n",
       "      <td>1.0</td>\n",
       "      <td>0</td>\n",
       "      <td>1</td>\n",
       "      <td>0</td>\n",
       "      <td>1</td>\n",
       "      <td>1</td>\n",
       "      <td>...</td>\n",
       "      <td>0</td>\n",
       "      <td>0</td>\n",
       "      <td>0</td>\n",
       "      <td>1</td>\n",
       "      <td>0</td>\n",
       "      <td>0</td>\n",
       "      <td>1</td>\n",
       "      <td>0</td>\n",
       "      <td>0</td>\n",
       "      <td>1</td>\n",
       "    </tr>\n",
       "    <tr>\n",
       "      <th>3</th>\n",
       "      <td>LP001006</td>\n",
       "      <td>2583</td>\n",
       "      <td>2358.0</td>\n",
       "      <td>120.0</td>\n",
       "      <td>1.0</td>\n",
       "      <td>0</td>\n",
       "      <td>1</td>\n",
       "      <td>0</td>\n",
       "      <td>1</td>\n",
       "      <td>1</td>\n",
       "      <td>...</td>\n",
       "      <td>0</td>\n",
       "      <td>0</td>\n",
       "      <td>0</td>\n",
       "      <td>1</td>\n",
       "      <td>0</td>\n",
       "      <td>0</td>\n",
       "      <td>1</td>\n",
       "      <td>0</td>\n",
       "      <td>0</td>\n",
       "      <td>1</td>\n",
       "    </tr>\n",
       "    <tr>\n",
       "      <th>4</th>\n",
       "      <td>LP001008</td>\n",
       "      <td>6000</td>\n",
       "      <td>0.0</td>\n",
       "      <td>141.0</td>\n",
       "      <td>1.0</td>\n",
       "      <td>0</td>\n",
       "      <td>1</td>\n",
       "      <td>1</td>\n",
       "      <td>0</td>\n",
       "      <td>1</td>\n",
       "      <td>...</td>\n",
       "      <td>0</td>\n",
       "      <td>0</td>\n",
       "      <td>0</td>\n",
       "      <td>1</td>\n",
       "      <td>0</td>\n",
       "      <td>0</td>\n",
       "      <td>1</td>\n",
       "      <td>0</td>\n",
       "      <td>0</td>\n",
       "      <td>1</td>\n",
       "    </tr>\n",
       "  </tbody>\n",
       "</table>\n",
       "<p>5 rows × 34 columns</p>\n",
       "</div>"
      ],
      "text/plain": [
       "    Loan_ID  ApplicantIncome  CoapplicantIncome  LoanAmount  Loan_Status  \\\n",
       "0  LP001002  5849             0.0               NaN          1.0           \n",
       "1  LP001003  4583             1508.0             128.0       0.0           \n",
       "2  LP001005  3000             0.0                66.0        1.0           \n",
       "3  LP001006  2583             2358.0             120.0       1.0           \n",
       "4  LP001008  6000             0.0                141.0       1.0           \n",
       "\n",
       "   Gender_Female  Gender_Male  Married_No  Married_Yes  Dependents_0  ...  \\\n",
       "0  0              1            1           0            1             ...   \n",
       "1  0              1            0           1            0             ...   \n",
       "2  0              1            0           1            1             ...   \n",
       "3  0              1            0           1            1             ...   \n",
       "4  0              1            1           0            1             ...   \n",
       "\n",
       "   Loan_Amount_Term_240.0  Loan_Amount_Term_300.0  Loan_Amount_Term_350.0  \\\n",
       "0  0                       0                       0                        \n",
       "1  0                       0                       0                        \n",
       "2  0                       0                       0                        \n",
       "3  0                       0                       0                        \n",
       "4  0                       0                       0                        \n",
       "\n",
       "   Loan_Amount_Term_360.0  Loan_Amount_Term_480.0  Credit_History_0.0  \\\n",
       "0  1                       0                       0                    \n",
       "1  1                       0                       0                    \n",
       "2  1                       0                       0                    \n",
       "3  1                       0                       0                    \n",
       "4  1                       0                       0                    \n",
       "\n",
       "   Credit_History_1.0  Property_Area_Rural  Property_Area_Semiurban  \\\n",
       "0  1                   0                    0                         \n",
       "1  1                   1                    0                         \n",
       "2  1                   0                    0                         \n",
       "3  1                   0                    0                         \n",
       "4  1                   0                    0                         \n",
       "\n",
       "   Property_Area_Urban  \n",
       "0  1                    \n",
       "1  0                    \n",
       "2  1                    \n",
       "3  1                    \n",
       "4  1                    \n",
       "\n",
       "[5 rows x 34 columns]"
      ]
     },
     "execution_count": 46,
     "metadata": {},
     "output_type": "execute_result"
    }
   ],
   "source": [
    "df.head()"
   ]
  },
  {
   "cell_type": "code",
   "execution_count": 47,
   "metadata": {},
   "outputs": [
    {
     "data": {
      "text/plain": [
       "(981, 34)"
      ]
     },
     "execution_count": 47,
     "metadata": {},
     "output_type": "execute_result"
    }
   ],
   "source": [
    "df.shape"
   ]
  },
  {
   "cell_type": "code",
   "execution_count": 48,
   "metadata": {},
   "outputs": [
    {
     "data": {
      "text/plain": [
       "0"
      ]
     },
     "execution_count": 48,
     "metadata": {},
     "output_type": "execute_result"
    }
   ],
   "source": [
    "df = df.fillna(-999)\n",
    "df.isnull().sum().sum()"
   ]
  },
  {
   "cell_type": "code",
   "execution_count": 49,
   "metadata": {},
   "outputs": [],
   "source": [
    "train_proc, test_proc = df[:train.shape[0]], df[train.shape[0]:].reset_index(drop = True)\n",
    "features = [c for c in train_proc.columns if c not in [ID_COL, TARGET_COL]]"
   ]
  },
  {
   "cell_type": "code",
   "execution_count": 50,
   "metadata": {},
   "outputs": [
    {
     "data": {
      "text/plain": [
       "32"
      ]
     },
     "execution_count": 50,
     "metadata": {},
     "output_type": "execute_result"
    }
   ],
   "source": [
    "len(features)"
   ]
  },
  {
   "cell_type": "code",
   "execution_count": 51,
   "metadata": {},
   "outputs": [],
   "source": [
    "trn, val = train_test_split(train_proc, test_size=0.2, random_state = 1, stratify = train_proc[TARGET_COL])\n",
    "\n",
    "###### Input to our model will be the features\n",
    "X_trn, X_val = trn[features], val[features]\n",
    "\n",
    "###### Output of our model will be the TARGET_COL\n",
    "y_trn, y_val = trn[TARGET_COL], val[TARGET_COL]\n",
    "\n",
    "##### Features for the test data that we will be predicting\n",
    "X_test = test_proc[features]\n"
   ]
  },
  {
   "cell_type": "code",
   "execution_count": 52,
   "metadata": {},
   "outputs": [
    {
     "data": {
      "text/html": [
       "<div>\n",
       "<style scoped>\n",
       "    .dataframe tbody tr th:only-of-type {\n",
       "        vertical-align: middle;\n",
       "    }\n",
       "\n",
       "    .dataframe tbody tr th {\n",
       "        vertical-align: top;\n",
       "    }\n",
       "\n",
       "    .dataframe thead th {\n",
       "        text-align: right;\n",
       "    }\n",
       "</style>\n",
       "<table border=\"1\" class=\"dataframe\">\n",
       "  <thead>\n",
       "    <tr style=\"text-align: right;\">\n",
       "      <th></th>\n",
       "      <th>ApplicantIncome</th>\n",
       "      <th>CoapplicantIncome</th>\n",
       "      <th>LoanAmount</th>\n",
       "      <th>Gender_Female</th>\n",
       "      <th>Gender_Male</th>\n",
       "      <th>Married_No</th>\n",
       "      <th>Married_Yes</th>\n",
       "      <th>Dependents_0</th>\n",
       "      <th>Dependents_1</th>\n",
       "      <th>Dependents_2</th>\n",
       "      <th>...</th>\n",
       "      <th>Loan_Amount_Term_240.0</th>\n",
       "      <th>Loan_Amount_Term_300.0</th>\n",
       "      <th>Loan_Amount_Term_350.0</th>\n",
       "      <th>Loan_Amount_Term_360.0</th>\n",
       "      <th>Loan_Amount_Term_480.0</th>\n",
       "      <th>Credit_History_0.0</th>\n",
       "      <th>Credit_History_1.0</th>\n",
       "      <th>Property_Area_Rural</th>\n",
       "      <th>Property_Area_Semiurban</th>\n",
       "      <th>Property_Area_Urban</th>\n",
       "    </tr>\n",
       "  </thead>\n",
       "  <tbody>\n",
       "    <tr>\n",
       "      <th>458</th>\n",
       "      <td>4354</td>\n",
       "      <td>0.0</td>\n",
       "      <td>136.0</td>\n",
       "      <td>0</td>\n",
       "      <td>1</td>\n",
       "      <td>1</td>\n",
       "      <td>0</td>\n",
       "      <td>0</td>\n",
       "      <td>0</td>\n",
       "      <td>1</td>\n",
       "      <td>...</td>\n",
       "      <td>0</td>\n",
       "      <td>0</td>\n",
       "      <td>0</td>\n",
       "      <td>1</td>\n",
       "      <td>0</td>\n",
       "      <td>0</td>\n",
       "      <td>1</td>\n",
       "      <td>1</td>\n",
       "      <td>0</td>\n",
       "      <td>0</td>\n",
       "    </tr>\n",
       "    <tr>\n",
       "      <th>361</th>\n",
       "      <td>5000</td>\n",
       "      <td>3667.0</td>\n",
       "      <td>236.0</td>\n",
       "      <td>0</td>\n",
       "      <td>1</td>\n",
       "      <td>0</td>\n",
       "      <td>1</td>\n",
       "      <td>0</td>\n",
       "      <td>0</td>\n",
       "      <td>1</td>\n",
       "      <td>...</td>\n",
       "      <td>0</td>\n",
       "      <td>0</td>\n",
       "      <td>0</td>\n",
       "      <td>1</td>\n",
       "      <td>0</td>\n",
       "      <td>0</td>\n",
       "      <td>1</td>\n",
       "      <td>0</td>\n",
       "      <td>1</td>\n",
       "      <td>0</td>\n",
       "    </tr>\n",
       "    <tr>\n",
       "      <th>365</th>\n",
       "      <td>6216</td>\n",
       "      <td>0.0</td>\n",
       "      <td>133.0</td>\n",
       "      <td>0</td>\n",
       "      <td>1</td>\n",
       "      <td>1</td>\n",
       "      <td>0</td>\n",
       "      <td>1</td>\n",
       "      <td>0</td>\n",
       "      <td>0</td>\n",
       "      <td>...</td>\n",
       "      <td>0</td>\n",
       "      <td>0</td>\n",
       "      <td>0</td>\n",
       "      <td>1</td>\n",
       "      <td>0</td>\n",
       "      <td>0</td>\n",
       "      <td>1</td>\n",
       "      <td>1</td>\n",
       "      <td>0</td>\n",
       "      <td>0</td>\n",
       "    </tr>\n",
       "    <tr>\n",
       "      <th>94</th>\n",
       "      <td>3620</td>\n",
       "      <td>0.0</td>\n",
       "      <td>25.0</td>\n",
       "      <td>0</td>\n",
       "      <td>1</td>\n",
       "      <td>1</td>\n",
       "      <td>0</td>\n",
       "      <td>1</td>\n",
       "      <td>0</td>\n",
       "      <td>0</td>\n",
       "      <td>...</td>\n",
       "      <td>0</td>\n",
       "      <td>0</td>\n",
       "      <td>0</td>\n",
       "      <td>0</td>\n",
       "      <td>0</td>\n",
       "      <td>0</td>\n",
       "      <td>1</td>\n",
       "      <td>0</td>\n",
       "      <td>1</td>\n",
       "      <td>0</td>\n",
       "    </tr>\n",
       "    <tr>\n",
       "      <th>401</th>\n",
       "      <td>2755</td>\n",
       "      <td>0.0</td>\n",
       "      <td>65.0</td>\n",
       "      <td>0</td>\n",
       "      <td>1</td>\n",
       "      <td>1</td>\n",
       "      <td>0</td>\n",
       "      <td>1</td>\n",
       "      <td>0</td>\n",
       "      <td>0</td>\n",
       "      <td>...</td>\n",
       "      <td>0</td>\n",
       "      <td>1</td>\n",
       "      <td>0</td>\n",
       "      <td>0</td>\n",
       "      <td>0</td>\n",
       "      <td>0</td>\n",
       "      <td>1</td>\n",
       "      <td>1</td>\n",
       "      <td>0</td>\n",
       "      <td>0</td>\n",
       "    </tr>\n",
       "  </tbody>\n",
       "</table>\n",
       "<p>5 rows × 32 columns</p>\n",
       "</div>"
      ],
      "text/plain": [
       "     ApplicantIncome  CoapplicantIncome  LoanAmount  Gender_Female  \\\n",
       "458  4354             0.0                136.0       0               \n",
       "361  5000             3667.0             236.0       0               \n",
       "365  6216             0.0                133.0       0               \n",
       "94   3620             0.0                25.0        0               \n",
       "401  2755             0.0                65.0        0               \n",
       "\n",
       "     Gender_Male  Married_No  Married_Yes  Dependents_0  Dependents_1  \\\n",
       "458  1            1           0            0             0              \n",
       "361  1            0           1            0             0              \n",
       "365  1            1           0            1             0              \n",
       "94   1            1           0            1             0              \n",
       "401  1            1           0            1             0              \n",
       "\n",
       "     Dependents_2  ...  Loan_Amount_Term_240.0  Loan_Amount_Term_300.0  \\\n",
       "458  1             ...  0                       0                        \n",
       "361  1             ...  0                       0                        \n",
       "365  0             ...  0                       0                        \n",
       "94   0             ...  0                       0                        \n",
       "401  0             ...  0                       1                        \n",
       "\n",
       "     Loan_Amount_Term_350.0  Loan_Amount_Term_360.0  Loan_Amount_Term_480.0  \\\n",
       "458  0                       1                       0                        \n",
       "361  0                       1                       0                        \n",
       "365  0                       1                       0                        \n",
       "94   0                       0                       0                        \n",
       "401  0                       0                       0                        \n",
       "\n",
       "     Credit_History_0.0  Credit_History_1.0  Property_Area_Rural  \\\n",
       "458  0                   1                   1                     \n",
       "361  0                   1                   0                     \n",
       "365  0                   1                   1                     \n",
       "94   0                   1                   0                     \n",
       "401  0                   1                   1                     \n",
       "\n",
       "     Property_Area_Semiurban  Property_Area_Urban  \n",
       "458  0                        0                    \n",
       "361  1                        0                    \n",
       "365  0                        0                    \n",
       "94   1                        0                    \n",
       "401  0                        0                    \n",
       "\n",
       "[5 rows x 32 columns]"
      ]
     },
     "execution_count": 52,
     "metadata": {},
     "output_type": "execute_result"
    }
   ],
   "source": [
    "X_trn.head()"
   ]
  },
  {
   "cell_type": "code",
   "execution_count": 53,
   "metadata": {},
   "outputs": [
    {
     "data": {
      "text/html": [
       "<div>\n",
       "<style scoped>\n",
       "    .dataframe tbody tr th:only-of-type {\n",
       "        vertical-align: middle;\n",
       "    }\n",
       "\n",
       "    .dataframe tbody tr th {\n",
       "        vertical-align: top;\n",
       "    }\n",
       "\n",
       "    .dataframe thead th {\n",
       "        text-align: right;\n",
       "    }\n",
       "</style>\n",
       "<table border=\"1\" class=\"dataframe\">\n",
       "  <thead>\n",
       "    <tr style=\"text-align: right;\">\n",
       "      <th></th>\n",
       "      <th>ApplicantIncome</th>\n",
       "      <th>CoapplicantIncome</th>\n",
       "      <th>LoanAmount</th>\n",
       "      <th>Gender_Female</th>\n",
       "      <th>Gender_Male</th>\n",
       "      <th>Married_No</th>\n",
       "      <th>Married_Yes</th>\n",
       "      <th>Dependents_0</th>\n",
       "      <th>Dependents_1</th>\n",
       "      <th>Dependents_2</th>\n",
       "      <th>...</th>\n",
       "      <th>Loan_Amount_Term_240.0</th>\n",
       "      <th>Loan_Amount_Term_300.0</th>\n",
       "      <th>Loan_Amount_Term_350.0</th>\n",
       "      <th>Loan_Amount_Term_360.0</th>\n",
       "      <th>Loan_Amount_Term_480.0</th>\n",
       "      <th>Credit_History_0.0</th>\n",
       "      <th>Credit_History_1.0</th>\n",
       "      <th>Property_Area_Rural</th>\n",
       "      <th>Property_Area_Semiurban</th>\n",
       "      <th>Property_Area_Urban</th>\n",
       "    </tr>\n",
       "  </thead>\n",
       "  <tbody>\n",
       "    <tr>\n",
       "      <th>22</th>\n",
       "      <td>2600</td>\n",
       "      <td>1911.0</td>\n",
       "      <td>116.0</td>\n",
       "      <td>0</td>\n",
       "      <td>1</td>\n",
       "      <td>0</td>\n",
       "      <td>1</td>\n",
       "      <td>1</td>\n",
       "      <td>0</td>\n",
       "      <td>0</td>\n",
       "      <td>...</td>\n",
       "      <td>0</td>\n",
       "      <td>0</td>\n",
       "      <td>0</td>\n",
       "      <td>1</td>\n",
       "      <td>0</td>\n",
       "      <td>1</td>\n",
       "      <td>0</td>\n",
       "      <td>0</td>\n",
       "      <td>1</td>\n",
       "      <td>0</td>\n",
       "    </tr>\n",
       "    <tr>\n",
       "      <th>604</th>\n",
       "      <td>12000</td>\n",
       "      <td>0.0</td>\n",
       "      <td>496.0</td>\n",
       "      <td>1</td>\n",
       "      <td>0</td>\n",
       "      <td>0</td>\n",
       "      <td>1</td>\n",
       "      <td>0</td>\n",
       "      <td>1</td>\n",
       "      <td>0</td>\n",
       "      <td>...</td>\n",
       "      <td>0</td>\n",
       "      <td>0</td>\n",
       "      <td>0</td>\n",
       "      <td>1</td>\n",
       "      <td>0</td>\n",
       "      <td>0</td>\n",
       "      <td>1</td>\n",
       "      <td>0</td>\n",
       "      <td>1</td>\n",
       "      <td>0</td>\n",
       "    </tr>\n",
       "    <tr>\n",
       "      <th>181</th>\n",
       "      <td>1916</td>\n",
       "      <td>5063.0</td>\n",
       "      <td>67.0</td>\n",
       "      <td>0</td>\n",
       "      <td>1</td>\n",
       "      <td>1</td>\n",
       "      <td>0</td>\n",
       "      <td>1</td>\n",
       "      <td>0</td>\n",
       "      <td>0</td>\n",
       "      <td>...</td>\n",
       "      <td>0</td>\n",
       "      <td>0</td>\n",
       "      <td>0</td>\n",
       "      <td>1</td>\n",
       "      <td>0</td>\n",
       "      <td>0</td>\n",
       "      <td>0</td>\n",
       "      <td>1</td>\n",
       "      <td>0</td>\n",
       "      <td>0</td>\n",
       "    </tr>\n",
       "    <tr>\n",
       "      <th>85</th>\n",
       "      <td>2366</td>\n",
       "      <td>2531.0</td>\n",
       "      <td>136.0</td>\n",
       "      <td>0</td>\n",
       "      <td>1</td>\n",
       "      <td>1</td>\n",
       "      <td>0</td>\n",
       "      <td>1</td>\n",
       "      <td>0</td>\n",
       "      <td>0</td>\n",
       "      <td>...</td>\n",
       "      <td>0</td>\n",
       "      <td>0</td>\n",
       "      <td>0</td>\n",
       "      <td>1</td>\n",
       "      <td>0</td>\n",
       "      <td>0</td>\n",
       "      <td>1</td>\n",
       "      <td>0</td>\n",
       "      <td>1</td>\n",
       "      <td>0</td>\n",
       "    </tr>\n",
       "    <tr>\n",
       "      <th>391</th>\n",
       "      <td>9504</td>\n",
       "      <td>0.0</td>\n",
       "      <td>275.0</td>\n",
       "      <td>0</td>\n",
       "      <td>1</td>\n",
       "      <td>0</td>\n",
       "      <td>1</td>\n",
       "      <td>0</td>\n",
       "      <td>0</td>\n",
       "      <td>0</td>\n",
       "      <td>...</td>\n",
       "      <td>0</td>\n",
       "      <td>0</td>\n",
       "      <td>0</td>\n",
       "      <td>1</td>\n",
       "      <td>0</td>\n",
       "      <td>0</td>\n",
       "      <td>1</td>\n",
       "      <td>1</td>\n",
       "      <td>0</td>\n",
       "      <td>0</td>\n",
       "    </tr>\n",
       "  </tbody>\n",
       "</table>\n",
       "<p>5 rows × 32 columns</p>\n",
       "</div>"
      ],
      "text/plain": [
       "     ApplicantIncome  CoapplicantIncome  LoanAmount  Gender_Female  \\\n",
       "22   2600             1911.0             116.0       0               \n",
       "604  12000            0.0                496.0       1               \n",
       "181  1916             5063.0             67.0        0               \n",
       "85   2366             2531.0             136.0       0               \n",
       "391  9504             0.0                275.0       0               \n",
       "\n",
       "     Gender_Male  Married_No  Married_Yes  Dependents_0  Dependents_1  \\\n",
       "22   1            0           1            1             0              \n",
       "604  0            0           1            0             1              \n",
       "181  1            1           0            1             0              \n",
       "85   1            1           0            1             0              \n",
       "391  1            0           1            0             0              \n",
       "\n",
       "     Dependents_2  ...  Loan_Amount_Term_240.0  Loan_Amount_Term_300.0  \\\n",
       "22   0             ...  0                       0                        \n",
       "604  0             ...  0                       0                        \n",
       "181  0             ...  0                       0                        \n",
       "85   0             ...  0                       0                        \n",
       "391  0             ...  0                       0                        \n",
       "\n",
       "     Loan_Amount_Term_350.0  Loan_Amount_Term_360.0  Loan_Amount_Term_480.0  \\\n",
       "22   0                       1                       0                        \n",
       "604  0                       1                       0                        \n",
       "181  0                       1                       0                        \n",
       "85   0                       1                       0                        \n",
       "391  0                       1                       0                        \n",
       "\n",
       "     Credit_History_0.0  Credit_History_1.0  Property_Area_Rural  \\\n",
       "22   1                   0                   0                     \n",
       "604  0                   1                   0                     \n",
       "181  0                   0                   1                     \n",
       "85   0                   1                   0                     \n",
       "391  0                   1                   1                     \n",
       "\n",
       "     Property_Area_Semiurban  Property_Area_Urban  \n",
       "22   1                        0                    \n",
       "604  1                        0                    \n",
       "181  0                        0                    \n",
       "85   1                        0                    \n",
       "391  0                        0                    \n",
       "\n",
       "[5 rows x 32 columns]"
      ]
     },
     "execution_count": 53,
     "metadata": {},
     "output_type": "execute_result"
    }
   ],
   "source": [
    "X_val.head()"
   ]
  },
  {
   "cell_type": "code",
   "execution_count": 54,
   "metadata": {},
   "outputs": [],
   "source": [
    "from sklearn.preprocessing import StandardScaler\n",
    "\n",
    "scaler = StandardScaler()\n",
    "_ = scaler.fit(X_trn)\n",
    "\n",
    "X_trn = scaler.transform(X_trn)\n",
    "X_val = scaler.transform(X_val)\n",
    "X_test = scaler.transform(X_test)"
   ]
  },
  {
   "cell_type": "code",
   "execution_count": 55,
   "metadata": {},
   "outputs": [
    {
     "data": {
      "text/plain": [
       "(491, 32)"
      ]
     },
     "execution_count": 55,
     "metadata": {},
     "output_type": "execute_result"
    }
   ],
   "source": [
    "X_trn.shape"
   ]
  },
  {
   "cell_type": "code",
   "execution_count": 56,
   "metadata": {},
   "outputs": [
    {
     "data": {
      "text/plain": [
       "array([-1.75281542e-01, -6.60296823e-02,  1.39620878e-01, -2.99416009e-01,\n",
       "       -4.45705264e-01,  2.58358160e+00, -1.08309814e-01,  1.01921673e+00,\n",
       "        4.67737087e-02, -3.02629299e-01, -3.07533794e-01, -5.89266202e-02,\n",
       "        7.05159917e-01, -4.89000118e-01,  3.28528505e-01,  8.03080702e-01,\n",
       "       -3.26644413e-01, -8.97065560e-02, -2.10436223e-02, -3.36622524e-01,\n",
       "       -5.63582271e-01,  2.35512216e-01, -1.12876068e-01, -1.06956850e-01,\n",
       "       -4.13234123e-01, -9.25816049e-02,  1.91132751e+00, -4.55176013e-01,\n",
       "       -4.88830998e-01, -1.76972748e-01,  1.71753778e-01, -5.33309696e-01,\n",
       "       -3.70446630e-01,  1.26004436e+00, -2.01326103e-01, -2.47496007e-01,\n",
       "        1.27871303e+01, -4.07653145e-01, -4.91706047e-01, -1.32324929e-01,\n",
       "       -2.60518287e-01,  1.10701268e-01, -2.04708514e-01,  1.70739054e-01,\n",
       "       -5.09463702e-01, -2.37495507e-02, -2.85209884e-01, -1.84414051e-01,\n",
       "       -4.87139793e-01,  2.51071304e-01, -2.77768581e-01, -4.01395686e-01,\n",
       "       -1.87289100e-01, -2.39378222e-01, -1.84244930e-01,  1.14083678e-01,\n",
       "        6.38526430e-01, -1.96252488e-01, -5.59354257e-01, -7.38283774e-01,\n",
       "       -4.74793994e-01, -3.20217833e-01,  1.73614103e-01, -2.66606626e-01,\n",
       "       -2.35150209e-01, -1.78833073e-01, -8.37873375e-02, -3.19710472e-01,\n",
       "        1.03090844e-01, -3.79556749e-02,  1.20237426e+00, -2.17223433e-01,\n",
       "       -2.83180438e-01,  1.45370976e-01, -4.96610542e-01, -5.71023574e-01,\n",
       "       -3.03474901e-01, -8.41278175e-01,  7.79572949e-01,  1.85305808e-02,\n",
       "       -4.25241680e-01, -2.92651187e-01, -2.63393336e-01, -1.10846622e-01,\n",
       "       -4.22197511e-01, -2.59165323e-01, -3.88204285e-01, -4.25749042e-01,\n",
       "       -1.36552942e-01,  1.03090844e-01, -7.90519628e-02, -6.60296823e-02,\n",
       "       -5.71023574e-01, -3.75012884e-01, -4.17800377e-01,  7.75536445e-02,\n",
       "       -3.77380571e-01, -2.77430340e-01,  7.18035466e-02,  5.28620477e-02,\n",
       "       -4.23043113e-01, -3.89557249e-01, -3.36791645e-01, -3.03982263e-01,\n",
       "       -2.37179655e-01, -3.76027607e-01, -4.01733927e-01,  5.28620477e-02,\n",
       "       -6.05693282e-01, -5.08618100e-01, -2.07076201e-01, -5.08618100e-01,\n",
       "        1.75353806e+00, -5.61383704e-01, -4.60756991e-01,  4.92068054e-01,\n",
       "       -6.36811458e-01,  1.87651107e-01,  4.97649032e-01, -3.75012884e-01,\n",
       "       -4.38263961e-01, -3.15989820e-01, -4.63970281e-01, -1.24883625e-01,\n",
       "       -1.33677893e-01, -1.22515938e-01, -5.89119470e-01,  4.84649140e-02,\n",
       "        1.88308438e+00, -5.93685724e-01, -3.63005326e-01, -3.92601419e-01,\n",
       "       -6.10259536e-01, -1.56170923e-01, -5.98251978e-01, -4.43506697e-01,\n",
       "       -5.74575105e-01, -4.92382529e-01, -2.07076201e-01, -4.71918945e-01,\n",
       "       -3.61314121e-01, -5.05743051e-01,  5.37076503e-02, -4.71918945e-01,\n",
       "        5.68172291e-01, -2.98570406e-01,  6.01342303e-02, -6.02479992e-01,\n",
       "        3.70808637e-01,  4.30000821e-01, -2.26694182e-01, -2.66775747e-01,\n",
       "       -2.58996203e-01,  2.96226485e-01, -2.36503173e-01,  2.49885222e+00,\n",
       "       -1.30971964e-01, -3.77549692e-01, -6.78584228e-01, -6.03832956e-01,\n",
       "        1.03090844e-01, -5.22485983e-01, -5.05743051e-01,  3.69963034e-01,\n",
       "       -3.47953600e-01, -8.00666860e-02,  9.20450347e-01, -2.07076201e-01,\n",
       "       -4.88830998e-01,  2.05916124e-01,  2.38351202e+00, -5.94531327e-01,\n",
       "       -4.51624482e-01, -3.02798419e-01,  1.03090844e-01, -2.83011317e-01,\n",
       "        1.31187240e-02, -4.67690932e-01, -4.99823832e-01, -4.91536926e-01,\n",
       "       -3.42372622e-01, -4.40631648e-01, -5.37368589e-01, -1.39427991e-01,\n",
       "       -5.17074126e-01,  3.83830918e-01, -1.78833073e-01, -2.66944867e-01,\n",
       "       -5.17581487e-01,  3.48484728e-01,  2.35343096e-01, -3.58100831e-01,\n",
       "       -2.94004152e-01,  7.01439266e-01,  9.90973607e-01, -6.07215366e-01,\n",
       "        6.65078353e-01, -2.58996203e-01, -4.64308522e-01, -3.90233731e-01,\n",
       "       -5.79648721e-01, -1.19640889e-01,  3.00454498e-01, -2.52062261e-01,\n",
       "       -4.62955557e-01, -5.30603768e-01, -3.47953600e-01, -1.15412876e-01,\n",
       "       -2.37495507e-02, -3.32056270e-01, -5.51067352e-01, -3.69093665e-01,\n",
       "       -8.51403018e-02,  1.26596358e+00,  5.85301962e+00, -1.82722845e-01,\n",
       "       -2.18238156e-01, -2.12657179e-01,  4.05309224e-01,  5.76459197e-01,\n",
       "       -1.87289100e-01, -3.25460570e-01, -3.47953600e-01, -4.84433864e-01,\n",
       "        1.85305808e-02,  4.49357716e-03, -2.07076201e-01, -2.89945259e-01,\n",
       "       -4.32513863e-01,  1.39686287e+00, -4.93397252e-01, -5.59354257e-01,\n",
       "        1.25583874e-01, -4.22028390e-01, -6.01127027e-01, -2.57643239e-01,\n",
       "       -5.37199468e-01, -2.91467344e-01, -2.73202327e-01, -5.43287807e-01,\n",
       "        5.46863105e-01, -4.04270735e-01, -4.04270735e-01, -5.36015625e-01,\n",
       "       -8.54785428e-02, -2.34135485e-01, -3.15820700e-01,  1.49937230e-01,\n",
       "       -2.54260828e-01, -3.76027607e-01, -3.78395294e-01, -4.64117012e-02,\n",
       "       -7.53313112e-02, -3.56409626e-01, -4.09175230e-01, -9.71254705e-03,\n",
       "       -1.36552942e-01,  4.49357716e-03, -3.25460570e-01, -6.03832956e-01,\n",
       "       -1.77310989e-01, -4.13234123e-01,  1.59407979e-01,  1.08671821e-01,\n",
       "       -2.03355550e-01,  7.84255349e+00, -3.50828649e-01, -2.84702523e-01,\n",
       "       -2.02848188e-01,  1.46385699e-01, -4.51962723e-01,  1.50951953e-01,\n",
       "        9.48693475e-01,  4.54861539e-01, -4.74793994e-01,  9.20980098e-02,\n",
       "        9.64434773e-05, -4.88830998e-01,  4.97649032e-01, -2.35150209e-01,\n",
       "       -3.03305781e-01,  1.83657624e+00, -3.19710472e-01, -3.47953600e-01,\n",
       "       -4.10189953e-01,  9.31127329e-02, -3.43894707e-01,  1.55465232e+00,\n",
       "       -3.87358682e-01,  2.16044205e+00, -7.42511787e-01, -3.12776530e-01,\n",
       "       -3.50997769e-01,  1.90709950e+00,  4.97818152e-01, -5.50052628e-01,\n",
       "       -6.60296823e-02, -2.99923370e-01, -1.24883625e-01, -5.37368589e-01,\n",
       "        1.81459057e+00, -2.06907081e-01,  4.97649032e-01, -3.33916596e-01,\n",
       "       -3.36622524e-01,  5.68172291e-01,  2.63755344e-01, -5.14875559e-01,\n",
       "       -2.66268385e-01,  3.00307766e-02, -3.73829040e-01, -5.65780837e-01,\n",
       "        1.90379424e-02, -4.68536535e-01,  4.37295393e-02, -2.77430340e-01,\n",
       "       -8.76117003e-01, -4.61602593e-01, -3.95476467e-01,  8.66331779e-01,\n",
       "       -4.90183962e-01,  3.46793522e-01, -1.08309814e-01,  2.42107917e-01,\n",
       "       -4.88830998e-01,  7.23109082e-02,  1.65011345e-02, -1.41457437e-01,\n",
       "       -5.80494323e-01,  1.55465232e+00, -3.77865544e-02, -3.91586695e-01,\n",
       "       -5.51405593e-01, -3.93785262e-01, -1.66149034e-01, -5.17074126e-01,\n",
       "       -1.07464211e-01, -4.58558424e-01,  2.86586615e-01, -1.25875960e-02,\n",
       "       -8.02549574e-01,  1.33124411e+00, -2.45128320e-01, -5.05743051e-01,\n",
       "       -2.26186821e-01,  1.90693038e+00,  1.67864006e-01,  3.97360560e-01,\n",
       "       -3.76027607e-01, -4.53653928e-01, -3.31548909e-01, -5.68148525e-01,\n",
       "       -3.83130669e-01, -3.11761807e-01,  6.70828451e-01,  5.15090835e-02,\n",
       "       -3.47953600e-01, -3.36622524e-01, -5.09463702e-01, -3.37276618e-02,\n",
       "        2.18885429e+00, -3.47423849e-02, -7.97645079e-01, -3.61990603e-01,\n",
       "       -4.16616533e-01, -1.78303323e-02, -1.36552942e-01, -2.51724020e-01,\n",
       "       -5.77281033e-01, -4.55345134e-01,  1.62517558e+00,  9.73385072e-01,\n",
       "       -2.90114380e-01, -4.92382529e-01, -7.76989986e-02,  2.89123423e-01,\n",
       "       -3.76196727e-01,  7.28182698e-02,  4.24588964e-01, -3.99366240e-01,\n",
       "       -3.89219008e-01,  7.79572949e-01, -2.56290274e-01,  6.01342303e-02,\n",
       "        2.00789533e+00, -3.65034773e-01, -5.40920120e-01, -4.50609759e-01,\n",
       "        1.57156437e+00,  7.73315490e-01, -3.25967931e-01,  2.61165561e+00,\n",
       "        1.11546870e-01, -1.87627341e-01,  6.96365650e-01,  9.00685634e-02,\n",
       "        2.10144137e-01, -5.01853278e-01, -5.17074126e-01,  4.53508574e-01,\n",
       "       -2.77430340e-01,  9.54804203e-02, -1.29449880e-01, -3.77380571e-01,\n",
       "       -3.91755816e-01, -3.28166498e-01, -6.41039472e-01, -4.88830998e-01,\n",
       "       -1.96928970e-01, -4.16278292e-01,  3.28528505e-01, -3.70446630e-01,\n",
       "       -5.50221749e-01, -1.15581996e-01, -3.49137443e-01, -4.04270735e-01,\n",
       "        1.62500646e+00, -2.33628124e-01,  2.04797690e+00, -4.71918945e-01,\n",
       "       -9.69787386e-02,  1.45370976e-01, -4.50587370e-02,  6.65923955e-01,\n",
       "       -4.02579530e-01, -5.01515037e-01, -4.60587870e-01, -5.75736560e-02,\n",
       "       -1.36552942e-01, -2.35150209e-01,  5.70892893e+00,  8.49927088e-01,\n",
       "       -4.60756991e-01, -4.87647154e-01, -4.46550866e-01, -5.26883116e-01,\n",
       "       -3.33747475e-01,  6.58843282e-02,  7.87521614e-01, -3.04827865e-01,\n",
       "       -3.46769756e-01,  9.06413344e-01,  7.79572949e-01, -2.91467344e-01,\n",
       "       -2.75400894e-01, -4.40293407e-01, -4.71918945e-01, -5.45486374e-01,\n",
       "       -2.14179263e-01, -1.67501998e-01,  5.46742482e+00, -3.33578355e-01,\n",
       "       -5.45148133e-01, -4.75808717e-01, -3.91924936e-01, -3.18019266e-01,\n",
       "       -1.18118804e-01, -4.71918945e-01,  1.07671771e+00,  6.38695551e-01,\n",
       "       -1.86443497e-01, -4.44183179e-01, -1.20148251e-01, -4.05116337e-01,\n",
       "       -4.74793994e-01,  2.51018329e+00, -8.88609533e-02, -5.32971455e-01,\n",
       "        4.41331896e-01,  2.21475212e-01, -4.88830998e-01, -4.18307738e-01,\n",
       "        1.45370976e-01, -2.61194770e-01, -6.02141751e-01, -6.91944750e-01,\n",
       "        3.06035475e-01, -7.44857086e-02,  1.17127848e-01,  1.16620486e-01,\n",
       "       -4.88830998e-01, -1.36552942e-01, -6.67760515e-01, -2.87239331e-01,\n",
       "       -1.17611443e-01, -2.87408451e-01, -3.18019266e-01, -5.23162465e-01,\n",
       "       -4.80374972e-01, -5.05743051e-01, -3.86851321e-01])"
      ]
     },
     "execution_count": 56,
     "metadata": {},
     "output_type": "execute_result"
    }
   ],
   "source": [
    "X_trn[:,0]"
   ]
  },
  {
   "cell_type": "code",
   "execution_count": 57,
   "metadata": {},
   "outputs": [
    {
     "data": {
      "text/plain": [
       "0.888888888888889"
      ]
     },
     "execution_count": 57,
     "metadata": {},
     "output_type": "execute_result"
    },
    {
     "data": {
      "text/plain": [
       "0.8292682926829268"
      ]
     },
     "execution_count": 57,
     "metadata": {},
     "output_type": "execute_result"
    }
   ],
   "source": [
    "clf = LogisticRegression(random_state = 1)\n",
    "_ = clf.fit(X_trn, y_trn)\n",
    "\n",
    "preds_val = clf.predict(X_val)\n",
    "\n",
    "f1_score(y_val, preds_val)\n",
    "accuracy_score(y_val,preds_val)"
   ]
  },
  {
   "cell_type": "code",
   "execution_count": 58,
   "metadata": {},
   "outputs": [],
   "source": [
    "preds_test = clf.predict(X_test)\n",
    "download_preds(preds_test, file_name='Load_prediction_logistic.csv')"
   ]
  },
  {
   "cell_type": "markdown",
   "metadata": {},
   "source": [
    "# Decision Tree"
   ]
  },
  {
   "cell_type": "code",
   "execution_count": 59,
   "metadata": {},
   "outputs": [
    {
     "data": {
      "text/plain": [
       "0.7664670658682634"
      ]
     },
     "execution_count": 59,
     "metadata": {},
     "output_type": "execute_result"
    },
    {
     "data": {
      "text/plain": [
       "0.6829268292682927"
      ]
     },
     "execution_count": 59,
     "metadata": {},
     "output_type": "execute_result"
    }
   ],
   "source": [
    "clf = DecisionTreeClassifier(random_state = 1)\n",
    "_ = clf.fit(X_trn, y_trn)\n",
    "\n",
    "preds_val = clf.predict(X_val)\n",
    "\n",
    "f1_score(y_val, preds_val)\n",
    "accuracy_score(y_val,preds_val)"
   ]
  },
  {
   "cell_type": "code",
   "execution_count": 60,
   "metadata": {},
   "outputs": [],
   "source": [
    "preds_test = clf.predict(X_test)\n",
    "download_preds(preds_test, file_name='Load_prediction_tree.csv')"
   ]
  },
  {
   "cell_type": "markdown",
   "metadata": {},
   "source": [
    "# Hyperparameter Tuning"
   ]
  },
  {
   "cell_type": "code",
   "execution_count": 66,
   "metadata": {},
   "outputs": [
    {
     "data": {
      "text/plain": [
       "DecisionTreeClassifier()"
      ]
     },
     "execution_count": 66,
     "metadata": {},
     "output_type": "execute_result"
    }
   ],
   "source": [
    "DecisionTreeClassifier()"
   ]
  },
  {
   "cell_type": "code",
   "execution_count": 67,
   "metadata": {},
   "outputs": [
    {
     "data": {
      "text/plain": [
       "{'min_samples_split': 20,\n",
       " 'max_leaf_nodes': 8,\n",
       " 'max_features': 0.2,\n",
       " 'max_depth': 8,\n",
       " 'criterion': 'gini',\n",
       " 'class_weight': {0: 1, 1: 1}}"
      ]
     },
     "execution_count": 67,
     "metadata": {},
     "output_type": "execute_result"
    }
   ],
   "source": [
    "from sklearn.model_selection import RandomizedSearchCV\n",
    "\n",
    "hyperparam_combs = {\n",
    "    'max_depth': [4, 6, 8, 10, 12],\n",
    "    'criterion': ['gini', 'entropy'],\n",
    "    'min_samples_split': [2, 10, 20, 30, 40],\n",
    "    'max_features': [0.2, 0.4, 0.6, 0.8, 1],\n",
    "    'max_leaf_nodes': [8, 16, 32, 64, 128],\n",
    "    'class_weight': [{0: 1, 1: 1}, {0: 1, 1: 2}, {0: 1, 1: 3}, {0: 1, 1: 4}, {0: 1, 1: 5}]\n",
    "}\n",
    "\n",
    "clf = RandomizedSearchCV(DecisionTreeClassifier(),\n",
    "                         hyperparam_combs,\n",
    "                         scoring='f1',\n",
    "                         random_state=1,\n",
    "                         n_iter=20)\n",
    "\n",
    "search = clf.fit(train_proc[features], train_proc[TARGET_COL])\n",
    "\n",
    "search.best_params_"
   ]
  },
  {
   "cell_type": "code",
   "execution_count": 68,
   "metadata": {},
   "outputs": [
    {
     "data": {
      "text/plain": [
       "0.8631578947368421"
      ]
     },
     "execution_count": 68,
     "metadata": {},
     "output_type": "execute_result"
    },
    {
     "data": {
      "text/plain": [
       "0.7886178861788617"
      ]
     },
     "execution_count": 68,
     "metadata": {},
     "output_type": "execute_result"
    }
   ],
   "source": [
    "optimal_params = {'min_samples_split': 20,\n",
    " 'max_leaf_nodes': 16,\n",
    " 'max_features': 0.4,\n",
    " 'max_depth': 6,\n",
    " 'criterion': 'gini',\n",
    " 'class_weight': {0: 1, 1: 5}}\n",
    "\n",
    "clf = DecisionTreeClassifier(random_state = 1, **optimal_params)\n",
    "_ = clf.fit(X_trn, y_trn)\n",
    "\n",
    "preds_val = clf.predict(X_val)\n",
    "\n",
    "f1_score(y_val, preds_val)\n",
    "accuracy_score(y_val,preds_val)"
   ]
  },
  {
   "cell_type": "code",
   "execution_count": 69,
   "metadata": {},
   "outputs": [],
   "source": [
    "preds_test = clf.predict(X_test)\n",
    "\n",
    "download_preds(preds_test, file_name = 'Loan_pred_dt_tuned_random.csv')"
   ]
  },
  {
   "cell_type": "code",
   "execution_count": 70,
   "metadata": {},
   "outputs": [
    {
     "data": {
      "text/plain": [
       "{'min_samples_split': 30,\n",
       " 'max_leaf_nodes': 32,\n",
       " 'max_features': 0.2,\n",
       " 'max_depth': 8,\n",
       " 'criterion': 'gini',\n",
       " 'class_weight': {0: 1, 1: 3}}"
      ]
     },
     "execution_count": 70,
     "metadata": {},
     "output_type": "execute_result"
    }
   ],
   "source": [
    "# RandomSearchCV for Logistic Regression.\n",
    "from sklearn.model_selection import RandomizedSearchCV\n",
    "\n",
    "hyperparam_combs = {\n",
    "    'max_depth': [4, 6, 8, 10, 12],\n",
    "    'criterion': ['gini', 'entropy'],\n",
    "    'min_samples_split': [2, 10, 20, 30, 40],\n",
    "    'max_features': [0.2, 0.4, 0.6, 0.8, 1],\n",
    "    'max_leaf_nodes': [8, 16, 32, 64, 128],\n",
    "    'class_weight': [{0: 1, 1: 1}, {0: 1, 1: 2}, {0: 1, 1: 3}, {0: 1, 1: 4}, {0: 1, 1: 5}]\n",
    "}\n",
    "\n",
    "clf = RandomizedSearchCV(RandomForestClassifier(),\n",
    "                         hyperparam_combs,\n",
    "                         scoring='f1',\n",
    "                         random_state=1,\n",
    "                         n_iter=20)\n",
    "\n",
    "search = clf.fit(train_proc[features], train_proc[TARGET_COL])\n",
    "\n",
    "search.best_params_"
   ]
  },
  {
   "cell_type": "code",
   "execution_count": 73,
   "metadata": {},
   "outputs": [
    {
     "data": {
      "text/plain": [
       "0.8900523560209425"
      ]
     },
     "execution_count": 73,
     "metadata": {},
     "output_type": "execute_result"
    },
    {
     "data": {
      "text/plain": [
       "0.8292682926829268"
      ]
     },
     "execution_count": 73,
     "metadata": {},
     "output_type": "execute_result"
    }
   ],
   "source": [
    "optimal_params = {'min_samples_split': 30,\n",
    " 'max_leaf_nodes': 32,\n",
    " 'max_features': 0.2,\n",
    " 'max_depth': 8,\n",
    " 'criterion': 'gini',\n",
    " 'class_weight': {0: 1, 1: 3}}\n",
    "\n",
    "clf = RandomForestClassifier(random_state = 1, **optimal_params)\n",
    "_ = clf.fit(X_trn, y_trn)\n",
    "\n",
    "preds_val = clf.predict(X_val)\n",
    "\n",
    "f1_score(y_val, preds_val)\n",
    "accuracy_score(y_val,preds_val)"
   ]
  },
  {
   "cell_type": "code",
   "execution_count": 77,
   "metadata": {},
   "outputs": [],
   "source": [
    "preds_test = clf.predict(X_test)\n",
    "\n",
    "download_preds(preds_test, file_name = 'Loan_pred_RF_tuned_random.csv')"
   ]
  },
  {
   "cell_type": "code",
   "execution_count": 76,
   "metadata": {},
   "outputs": [
    {
     "data": {
      "text/plain": [
       "0.8947368421052632"
      ]
     },
     "execution_count": 76,
     "metadata": {},
     "output_type": "execute_result"
    },
    {
     "data": {
      "text/plain": [
       "0.8373983739837398"
      ]
     },
     "execution_count": 76,
     "metadata": {},
     "output_type": "execute_result"
    }
   ],
   "source": [
    "#Support Vector Machines\n",
    "from sklearn import svm\n",
    "clf = svm.SVC(random_state = 1)\n",
    "_ = clf.fit(X_trn, y_trn)\n",
    "\n",
    "preds_val = clf.predict(X_val)\n",
    "\n",
    "f1_score(y_val, preds_val)\n",
    "accuracy_score(y_val,preds_val)"
   ]
  },
  {
   "cell_type": "code",
   "execution_count": 78,
   "metadata": {},
   "outputs": [],
   "source": [
    "preds_test = clf.predict(X_test)\n",
    "\n",
    "download_preds(preds_test, file_name = 'Loan_Random_Forest_random.csv')"
   ]
  },
  {
   "cell_type": "code",
   "execution_count": 90,
   "metadata": {},
   "outputs": [
    {
     "data": {
      "text/plain": [
       "GridSearchCV(cv=5, estimator=SVC(), n_jobs=-1,\n",
       "             param_grid=[{'C': [10, 0.1, 0.001], 'gamma': [50, 5, 10, 0.5],\n",
       "                          'kernel': ['rbf']}])"
      ]
     },
     "execution_count": 90,
     "metadata": {},
     "output_type": "execute_result"
    },
    {
     "name": "stdout",
     "output_type": "stream",
     "text": [
      "Time required =2.165992259979248s\n"
     ]
    }
   ],
   "source": [
    "import time\n",
    "from sklearn.svm import SVC\n",
    "start = time.time()\n",
    "clf = SVC()\n",
    "param_grid = [{'kernel':['rbf'],'gamma':[50,5,10,0.5],\n",
    "             'C':[10,0.1,0.001] }]\n",
    "gsv = GridSearchCV(clf,param_grid,cv=5,n_jobs=-1)\n",
    "gsv.fit(X_trn,y_trn)\n",
    "end = time.time()\n",
    "print(\"Time required =\"+str(end-start)+\"s\")"
   ]
  },
  {
   "cell_type": "code",
   "execution_count": 91,
   "metadata": {},
   "outputs": [
    {
     "name": "stdout",
     "output_type": "stream",
     "text": [
      "Best HyperParameter:  {'C': 10, 'gamma': 50, 'kernel': 'rbf'}\n",
      "Best Accuracy: 69.04%\n"
     ]
    }
   ],
   "source": [
    "print(\"Best HyperParameter: \",gsv.best_params_)\n",
    "print(\"Best Accuracy: %.2f%%\"%(gsv.best_score_*100))"
   ]
  },
  {
   "cell_type": "code",
   "execution_count": 94,
   "metadata": {},
   "outputs": [
    {
     "data": {
      "text/plain": [
       "SVC(C=10, gamma=50)"
      ]
     },
     "execution_count": 94,
     "metadata": {},
     "output_type": "execute_result"
    },
    {
     "data": {
      "text/plain": [
       "0.8947368421052632"
      ]
     },
     "execution_count": 94,
     "metadata": {},
     "output_type": "execute_result"
    },
    {
     "data": {
      "text/plain": [
       "0.8373983739837398"
      ]
     },
     "execution_count": 94,
     "metadata": {},
     "output_type": "execute_result"
    }
   ],
   "source": [
    "clf = SVC(C= 10, gamma = 50 )\n",
    "clf.fit(X_trn , y_trn)\n",
    "preds_test = clf.predict(X_test)\n",
    "\n",
    "\n",
    "preds_test = clf.predict(X_test)\n",
    "\n",
    "f1_score(y_val, preds_val)\n",
    "accuracy_score(y_val,preds_val)\n",
    "\n",
    "download_preds(preds_test, file_name = 'Loan_SVM_Tuning_random.csv')"
   ]
  },
  {
   "cell_type": "markdown",
   "metadata": {},
   "source": [
    "# Stratified K-Fold"
   ]
  },
  {
   "cell_type": "code",
   "execution_count": 95,
   "metadata": {},
   "outputs": [],
   "source": [
    "from sklearn.model_selection import StratifiedKFold"
   ]
  },
  {
   "cell_type": "code",
   "execution_count": 102,
   "metadata": {},
   "outputs": [],
   "source": [
    "def run_clf_kfold(clf, train, test, features):\n",
    "\n",
    "  N_SPLITS = 5\n",
    "\n",
    "  oofs = np.zeros(len(train))\n",
    "  preds = np.zeros((len(test)))\n",
    "\n",
    "  folds = StratifiedKFold(n_splits = N_SPLITS)\n",
    "\n",
    "  for fold_, (trn_idx, val_idx) in enumerate(folds.split(train, train[TARGET_COL])):\n",
    "    print(f'\\n------------- Fold {fold_ + 1} -------------')\n",
    "\n",
    "    ############# Get train, validation and test sets along with targets ################\n",
    "  \n",
    "    ### Training Set\n",
    "    X_trn, y_trn = train[features].iloc[trn_idx], target.iloc[trn_idx]\n",
    "\n",
    "    ### Validation Set\n",
    "    X_val, y_val = train[features].iloc[val_idx], target.iloc[val_idx]\n",
    "\n",
    "    ### Test Set\n",
    "    X_test = test[features]\n",
    "\n",
    "    ############# Scaling Data ################\n",
    "    scaler = StandardScaler()\n",
    "    _ = scaler.fit(X_trn)\n",
    "\n",
    "    X_trn = scaler.transform(X_trn)\n",
    "    X_val = scaler.transform(X_val)\n",
    "    X_test = scaler.transform(X_test)\n",
    "\n",
    "\n",
    "    ############# Fitting and Predicting ################\n",
    "\n",
    "    _ = clf.fit(X_trn, y_trn)\n",
    "\n",
    "    ### Instead of directly predicting the classes we will obtain the probability of positive class.\n",
    "    preds_val = clf.predict_proba(X_val)[:, 1]\n",
    "    preds_test = clf.predict_proba(X_test)[:, 1]\n",
    "\n",
    "    fold_score = f1_score(y_val, preds_val.round())\n",
    "    Accry_Score = accuracy_score(y_val,preds_val.round())\n",
    "    print(f'\\nF1 score for validation set is {fold_score}')\n",
    "    print(f'\\nAccuracy score for validation set is {Accry_Score}')\n",
    "\n",
    "    oofs[val_idx] = preds_val\n",
    "    preds += preds_test / N_SPLITS\n",
    "\n",
    "\n",
    "  oofs_score = f1_score(target, oofs.round())\n",
    "  print(f'\\n\\nF1 score for oofs is {oofs_score}')\n",
    "\n",
    "  return oofs, preds"
   ]
  },
  {
   "cell_type": "code",
   "execution_count": 103,
   "metadata": {},
   "outputs": [],
   "source": [
    "target = train[TARGET_COL]"
   ]
  },
  {
   "cell_type": "code",
   "execution_count": 104,
   "metadata": {},
   "outputs": [
    {
     "name": "stdout",
     "output_type": "stream",
     "text": [
      "\n",
      "------------- Fold 1 -------------\n",
      "\n",
      "F1 score for validation set is 0.8795811518324608\n",
      "\n",
      "Accuracy score for validation set is 0.8130081300813008\n",
      "\n",
      "------------- Fold 2 -------------\n",
      "\n",
      "F1 score for validation set is 0.8453608247422681\n",
      "\n",
      "Accuracy score for validation set is 0.7560975609756098\n",
      "\n",
      "------------- Fold 3 -------------\n",
      "\n",
      "F1 score for validation set is 0.8602150537634408\n",
      "\n",
      "Accuracy score for validation set is 0.7886178861788617\n",
      "\n",
      "------------- Fold 4 -------------\n",
      "\n",
      "F1 score for validation set is 0.850828729281768\n",
      "\n",
      "Accuracy score for validation set is 0.7804878048780488\n",
      "\n",
      "------------- Fold 5 -------------\n",
      "\n",
      "F1 score for validation set is 0.8791208791208791\n",
      "\n",
      "Accuracy score for validation set is 0.819672131147541\n",
      "\n",
      "\n",
      "F1 score for oofs is 0.8629550321199143\n"
     ]
    }
   ],
   "source": [
    "dt_params = {'class_weight': {0: 1, 1: 3},\n",
    "             'criterion': 'gini',\n",
    "             'max_depth': 10,\n",
    "             'max_features': 0.8,\n",
    "             'max_leaf_nodes': 32,\n",
    "             'min_samples_split': 20,\n",
    "             'random_state': 1\n",
    "             }\n",
    "\n",
    "clf = DecisionTreeClassifier(**dt_params)\n",
    "        \n",
    "\n",
    "dt_oofs, dt_preds = run_clf_kfold(clf, train_proc, test_proc, features)"
   ]
  },
  {
   "cell_type": "code",
   "execution_count": 105,
   "metadata": {},
   "outputs": [],
   "source": [
    "dt_preds_rounded = dt_preds.round()\n",
    "download_preds(dt_preds_rounded, file_name = 'Loan_pred_dt_5_folds.csv')"
   ]
  },
  {
   "cell_type": "markdown",
   "metadata": {},
   "source": [
    "# Most Popular Variants of GradientBoosting\n",
    "LightGBM\n",
    "\n",
    "XGBoost\n",
    "\n",
    "CatBoost"
   ]
  },
  {
   "cell_type": "code",
   "execution_count": 106,
   "metadata": {},
   "outputs": [],
   "source": [
    "from lightgbm import LGBMClassifier"
   ]
  },
  {
   "cell_type": "code",
   "execution_count": 107,
   "metadata": {},
   "outputs": [
    {
     "name": "stdout",
     "output_type": "stream",
     "text": [
      "\n",
      "------------- Fold 1 -------------\n",
      "\n",
      "F1 score for validation set is 0.8268156424581007\n",
      "\n",
      "Accuracy score for validation set is 0.7479674796747967\n",
      "\n",
      "------------- Fold 2 -------------\n",
      "\n",
      "F1 score for validation set is 0.8404255319148938\n",
      "\n",
      "Accuracy score for validation set is 0.7560975609756098\n",
      "\n",
      "------------- Fold 3 -------------\n",
      "\n",
      "F1 score for validation set is 0.839779005524862\n",
      "\n",
      "Accuracy score for validation set is 0.7642276422764228\n",
      "\n",
      "------------- Fold 4 -------------\n",
      "\n",
      "F1 score for validation set is 0.8685714285714285\n",
      "\n",
      "Accuracy score for validation set is 0.8130081300813008\n",
      "\n",
      "------------- Fold 5 -------------\n",
      "\n",
      "F1 score for validation set is 0.8228571428571427\n",
      "\n",
      "Accuracy score for validation set is 0.7459016393442623\n",
      "\n",
      "\n",
      "F1 score for oofs is 0.8396436525612472\n"
     ]
    }
   ],
   "source": [
    "clf = LGBMClassifier()\n",
    "lgb_oofs, lgb_preds = run_clf_kfold(clf, train_proc, test_proc, features)"
   ]
  },
  {
   "cell_type": "code",
   "execution_count": 108,
   "metadata": {},
   "outputs": [],
   "source": [
    "lgb_preds_rounded = lgb_preds.round()\n",
    "download_preds(lgb_preds_rounded, file_name = 'hacklive_lgb_5_folds.csv')"
   ]
  },
  {
   "cell_type": "code",
   "execution_count": 111,
   "metadata": {},
   "outputs": [
    {
     "name": "stdout",
     "output_type": "stream",
     "text": [
      "Threshold 0.0: 0.8146718146718147\n",
      "Threshold 0.01: 0.8264299802761341\n",
      "Threshold 0.02: 0.8365095285857572\n",
      "Threshold 0.03: 0.8475609756097561\n",
      "Threshold 0.04: 0.8501529051987767\n",
      "Threshold 0.05: 0.8545081967213115\n",
      "Threshold 0.06: 0.8577319587628865\n",
      "Threshold 0.07: 0.8612836438923395\n",
      "Threshold 0.08: 0.8657648283038502\n",
      "Threshold 0.09: 0.8657648283038502\n",
      "Threshold 0.1: 0.8657648283038502\n",
      "Threshold 0.11: 0.8666666666666667\n",
      "Threshold 0.12: 0.8684759916492694\n",
      "Threshold 0.13: 0.8682008368200836\n",
      "Threshold 0.14: 0.8670157068062828\n",
      "Threshold 0.15: 0.8670157068062828\n",
      "Threshold 0.16: 0.865263157894737\n",
      "Threshold 0.17: 0.8668076109936576\n",
      "Threshold 0.18: 0.865323435843054\n",
      "Threshold 0.19: 0.8641188959660298\n",
      "Threshold 0.2: 0.8626198083067093\n",
      "Threshold 0.21: 0.8626198083067093\n",
      "Threshold 0.22: 0.8626198083067093\n",
      "Threshold 0.23: 0.8601921024546425\n",
      "Threshold 0.24: 0.8589743589743589\n",
      "Threshold 0.25: 0.8598930481283423\n",
      "Threshold 0.26: 0.8598930481283423\n",
      "Threshold 0.27: 0.860813704496788\n",
      "Threshold 0.28: 0.860813704496788\n",
      "Threshold 0.29: 0.8592910848549946\n",
      "Threshold 0.3: 0.8580645161290323\n",
      "Threshold 0.31: 0.8556034482758622\n",
      "Threshold 0.32: 0.8528138528138528\n",
      "Threshold 0.33: 0.8503253796095446\n",
      "Threshold 0.34: 0.8490770901194353\n",
      "Threshold 0.35: 0.85\n",
      "Threshold 0.36: 0.850924918389554\n",
      "Threshold 0.37: 0.8505997818974919\n",
      "Threshold 0.38: 0.8524590163934426\n",
      "Threshold 0.39: 0.8508771929824561\n",
      "Threshold 0.4: 0.8492849284928493\n",
      "Threshold 0.41: 0.847682119205298\n",
      "Threshold 0.42: 0.847682119205298\n",
      "Threshold 0.43: 0.845132743362832\n",
      "Threshold 0.44: 0.845132743362832\n",
      "Threshold 0.45: 0.8438538205980066\n",
      "Threshold 0.46: 0.8425720620842572\n",
      "Threshold 0.47: 0.8435072142064373\n",
      "Threshold 0.48: 0.8435072142064373\n",
      "Threshold 0.49: 0.8422222222222222\n",
      "Threshold 0.5: 0.8396436525612472\n",
      "Threshold 0.51: 0.8383500557413601\n",
      "Threshold 0.52: 0.8376259798432252\n",
      "Threshold 0.53: 0.8346456692913385\n",
      "Threshold 0.54: 0.8306997742663657\n",
      "Threshold 0.55: 0.830316742081448\n",
      "Threshold 0.56: 0.8304891922639364\n",
      "Threshold 0.57: 0.8260869565217391\n",
      "Threshold 0.58: 0.8270332187857962\n",
      "Threshold 0.59: 0.8229885057471265\n",
      "Threshold 0.6: 0.8229885057471265\n",
      "Threshold 0.61: 0.8171296296296297\n",
      "Threshold 0.62: 0.8180764774044033\n",
      "Threshold 0.63: 0.8121353558926487\n",
      "Threshold 0.64: 0.8116959064327486\n",
      "Threshold 0.65: 0.8089097303634232\n",
      "Threshold 0.66: 0.8084606345475911\n",
      "Threshold 0.67: 0.8070588235294118\n",
      "Threshold 0.68: 0.8051948051948051\n",
      "Threshold 0.69: 0.8033175355450237\n",
      "Threshold 0.7: 0.8023809523809524\n",
      "Threshold 0.71: 0.7976047904191617\n",
      "Threshold 0.72: 0.7951807228915662\n",
      "Threshold 0.73: 0.7971014492753623\n",
      "Threshold 0.74: 0.7917174177831914\n",
      "Threshold 0.75: 0.7842170160295932\n",
      "Threshold 0.76: 0.7791563275434243\n",
      "Threshold 0.77: 0.7734668335419274\n",
      "Threshold 0.78: 0.7682619647355163\n",
      "Threshold 0.79: 0.7598475222363406\n",
      "Threshold 0.8: 0.7551020408163265\n",
      "Threshold 0.81: 0.7464607464607464\n",
      "Threshold 0.82: 0.7376623376623376\n",
      "Threshold 0.83: 0.7277486910994765\n",
      "Threshold 0.84: 0.713527851458886\n",
      "Threshold 0.85: 0.7066666666666668\n",
      "Threshold 0.86: 0.6947082767978291\n",
      "Threshold 0.87: 0.6904109589041096\n",
      "Threshold 0.88: 0.6851595006934813\n",
      "Threshold 0.89: 0.6769230769230768\n",
      "Threshold 0.9: 0.6581196581196581\n",
      "Threshold 0.91: 0.633720930232558\n",
      "Threshold 0.92: 0.6020864381520119\n",
      "Threshold 0.93: 0.5731895223420648\n",
      "Threshold 0.94: 0.5402843601895735\n",
      "Threshold 0.95: 0.5234248788368336\n",
      "Threshold 0.96: 0.472972972972973\n",
      "Threshold 0.97: 0.4107142857142857\n",
      "Threshold 0.98: 0.3747680890538033\n",
      "Threshold 0.99: 0.27419354838709675\n",
      "Threshold 0.99: 0.41368078175895767\n"
     ]
    }
   ],
   "source": [
    "thresholds = np.arange(0, 100)/100\n",
    "for thresh in thresholds:\n",
    "  oofs_rounded = (lgb_oofs > thresh) * 1\n",
    "  thresh_score = f1_score(target, oofs_rounded)\n",
    "  acc_score = accuracy_score(target, oofs_rounded)\n",
    "  print(f'Threshold {thresh}: {thresh_score}')\n",
    "print(f'Threshold {thresh}: {acc_score}')"
   ]
  },
  {
   "cell_type": "code",
   "execution_count": null,
   "metadata": {},
   "outputs": [],
   "source": []
  }
 ],
 "metadata": {
  "kernelspec": {
   "display_name": "Python 3",
   "language": "python",
   "name": "python3"
  },
  "language_info": {
   "codemirror_mode": {
    "name": "ipython",
    "version": 3
   },
   "file_extension": ".py",
   "mimetype": "text/x-python",
   "name": "python",
   "nbconvert_exporter": "python",
   "pygments_lexer": "ipython3",
   "version": "3.8.3"
  }
 },
 "nbformat": 4,
 "nbformat_minor": 4
}
