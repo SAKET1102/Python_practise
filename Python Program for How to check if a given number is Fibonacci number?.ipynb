{
 "cells": [
  {
   "cell_type": "code",
   "execution_count": 4,
   "metadata": {},
   "outputs": [
    {
     "name": "stdout",
     "output_type": "stream",
     "text": [
      "1 is a Fibonacci Number\n",
      "2 is a Fibonacci Number\n",
      "3 is a Fibonacci Number\n",
      "4 is a not Fibonacci Number\n",
      "5 is a Fibonacci Number\n",
      "6 is a not Fibonacci Number\n",
      "7 is a not Fibonacci Number\n",
      "8 is a Fibonacci Number\n",
      "9 is a not Fibonacci Number\n",
      "10 is a not Fibonacci Number\n"
     ]
    }
   ],
   "source": [
    "import math\n",
    "# if x is perfect square\n",
    "def isPerfectSquare(x):\n",
    "   s = int(math.sqrt(x))\n",
    "   return s*s == x\n",
    "# if n is a Fibinacci Number\n",
    "def isFibonacci(n):\n",
    "   #if one of 5*n*n + 4 or 5*n*n - 4 or both is a perferct square\n",
    "   return isPerfectSquare(5*n*n + 4) or isPerfectSquare(5*n*n - 4)\n",
    "for i in range(1,11):\n",
    "   if (isFibonacci(i) == True):\n",
    "      print (i,\"is a Fibonacci Number\")\n",
    "   else:\n",
    "      print (i,\"is a not Fibonacci Number\")"
   ]
  },
  {
   "cell_type": "code",
   "execution_count": null,
   "metadata": {},
   "outputs": [],
   "source": []
  }
 ],
 "metadata": {
  "kernelspec": {
   "display_name": "Python 3",
   "language": "python",
   "name": "python3"
  },
  "language_info": {
   "codemirror_mode": {
    "name": "ipython",
    "version": 3
   },
   "file_extension": ".py",
   "mimetype": "text/x-python",
   "name": "python",
   "nbconvert_exporter": "python",
   "pygments_lexer": "ipython3",
   "version": "3.8.3"
  }
 },
 "nbformat": 4,
 "nbformat_minor": 4
}
